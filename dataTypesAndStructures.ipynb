{
  "nbformat": 4,
  "nbformat_minor": 0,
  "metadata": {
    "colab": {
      "provenance": [],
      "collapsed_sections": [
        "pjV6vUCFXoMq"
      ]
    },
    "kernelspec": {
      "name": "python3",
      "display_name": "Python 3"
    },
    "language_info": {
      "name": "python"
    }
  },
  "cells": [
    {
      "cell_type": "markdown",
      "source": [
        "1.  What are data structures, and why are they important\n",
        "\n",
        "->Data structures are built-in types and collections that allow you to organize and manipulate data efficiently. Every data structure has a specific format for organizing, processing, retrieving and storing data, allowing data to be manipulated in various ways by users.\n",
        "They are important because they help manage data efficiently, enabling faster access, processing, and problem-solving.\n",
        "\n",
        "2. Explain the difference between mutable and immutable data types with examples\n",
        "\n",
        "->Mutable data types are those whose values can be changed or modified after they are created. This means you can add, remove, or change elements without creating a new object.\n",
        "Examples:\n",
        "  - Lists:\n",
        "  Lists are mutable, allowing you to modify their contents.\n",
        "  my_list = [1, 2, 3]\n",
        "  my_list[0] = 10\n",
        "  my_list.append(4)\n",
        "  print(my_list)  # Output: [10, 2, 3, 4]\n",
        "\n",
        "  - Sets:\n",
        "  Sets are mutable collections of unique elements, allowing you to add or remove items.\n",
        "   my_set = {1, 2, 3}\n",
        "   my_set.add(4)  \n",
        "   my_set.remove(2)  \n",
        "   print(my_set)  # Output: {1, 3, 4}\n",
        "\n",
        " Immutable data types are those whose values cannot be changed after they are created. Any modification results in the creation of a new object rather than altering the original.\n",
        "Examples:\n",
        "  - Tuples:\n",
        "  Tuples are immutable, meaning you cannot change their contents once they are created.\n",
        "  my_tuple = (1, 2, 3)\n",
        "  my_tuple[0] = 10  # This would raise a TypeError\n",
        "  new_tuple = my_tuple + (4,)  # Creating a new tuple\n",
        "  print(new_tuple)  # Output: (1, 2, 3, 4)\n",
        "   \n",
        "\n",
        "3. What are the main differences between lists and tuples in Python\n",
        "\n",
        "->Lists and tuples are both built-in data structures in Python that can store collections of items. However, they have several key differences that affect their usage and behavior. Here are the main differences between lists and tuples:\n",
        "\n",
        " - Mutability : Lists are mutable data structures where as tuples are immutable.\n",
        " - Syntax: List uses square brackets [ ] (e.g., [1, 2, 3]) where as tuple uses parentheses ( ) (e.g., (1, 2, 3))\n",
        " - Performance: Lists are slower (more overhead) where as tuples are Faster.\n",
        " - Memory usage: Lists consumes more memory where as tuples are memory efficient.\n",
        "\n",
        "4. Describe how dictionaries store data\n",
        "\n",
        "-> Dictionaries store data as key-value pairs.Each entry in a dictionary consists of a unique key and its associated value.\n",
        "Keys must be immutable (e.g., int, str, tuple), while values can be of any type (list, dict, etc.).Each key is hashed to find a unique index where its value is stored, enabling fast lookups.\n",
        "Example:\n",
        "my_dict = {\"name\": \"Alice\", \"age\": 25}\n",
        "\n",
        "5. Why might you use a set instead of a list in Python\n",
        "\n",
        "-> Fast Membership Testing: As you mentioned, sets provide average-case O(1) time complexity for membership checks, while lists have O(n) time complexity. If you need to frequently check for the existence of elements, sets are more efficient.\n",
        "\n",
        "Uniqueness: Sets automatically enforce uniqueness of elements. If you add duplicate items to a set, they will be ignored. This is useful when you want to ensure that all elements are distinct without having to manually check for duplicates.\n",
        "\n",
        "Mathematical Set Operations: Sets support mathematical operations like union, intersection, difference, and symmetric difference. These operations can be performed easily and efficiently with set methods, making it simpler to work with collections of items.\n",
        "\n",
        "Performance with Large Data: For large datasets, the performance benefits of using sets for membership checks and operations can be significant compared to lists.\n",
        "\n",
        "Cleaner Code: Using sets can lead to cleaner and more readable code when dealing with unique collections of items or when performing set operations.\n",
        "\n",
        "6. What is a string in Python, and how is it different from a list\n",
        "\n",
        "-> A string is a sequence of characters used to represent text data. Strings can be defined using single quotes ('...'), double quotes (\"...\"), triple single quotes ('''...'''), or triple double quotes (\"\"\"...\"\"\").\n",
        "\n",
        "Immutable: Strings are immutable, meaning that once a string is created, it cannot be changed. Any operation that modifies a string will return a new string rather than altering the original.\n",
        "\n",
        "Indexed: Strings are indexed, allowing you to access individual characters using their position. For example, in the string s = \"hello\", s[0] would return 'h'.\n",
        "\n",
        "Supports String Methods: Strings come with a variety of built-in methods for manipulation, such as .upper(), .lower(), .replace(), .split(), and many others.\n",
        "\n",
        "The differences are as follows:\n",
        "\n",
        "A string is a sequence of characters (text) where as a list is a collection of items that can be of different data types (e.g., integers, strings, other lists).\n",
        "\n",
        "String is Immutable, you cannot change a string in place. On the other hand list is Mutable, you can modify a list by adding, removing, or changing its elements.\n",
        "\n",
        "7. How do tuples ensure data integrity in Python\n",
        "\n",
        "-> Tuples ensure data integrity in Python through their immutability, fixed structure, hashability, and ability to represent related data as a single entity. These characteristics make tuples a reliable choice for situations where maintaining the integrity of data is essential.\n",
        "\n",
        "\n",
        "8. What is a hash table, and how does it relate to dictionaries in Python\n",
        "\n",
        "-> A hash table is a data structure that implements an associative array, a structure that can map keys to values. It uses a hash function to compute an index (or hash code) into an array of buckets or slots, from which the desired value can be found. Hash tables are designed to provide efficient data retrieval, insertion, and deletion operations.\n",
        "Python dictionaries are built on hash tables, leveraging their properties to provide fast access to data. The use of hash functions, buckets, and automatic resizing ensures that dictionaries maintain efficient performance even as they grow in size.\n",
        "\n",
        "9. Can lists contain different data types in Python\n",
        "\n",
        "->Yes, lists in Python can contain different data types. This flexibility is one of the key features of lists, allowing them to store a heterogeneous collection of items. You can mix integers, floats, strings, booleans, and even other lists or complex objects within a single list.\n",
        "\n",
        "10. Explain why strings are immutable in Python\n",
        "\n",
        "-> Strings are immutable in Python for reasons related to performance optimization, hashability, simplicity, and thread safety. This immutability allows for efficient memory usage, predictable behavior, and safe sharing of string objects across different parts of a program. While it may seem limiting at first, immutability provides significant advantages in terms of reliability and efficiency in string handling.\n",
        "\n",
        "11. What advantages do dictionaries offer over lists for certain tasks\n",
        "\n",
        "-> Dictionaries offer significant advantages over lists for tasks that require key-value pair storage, fast lookups, dynamic sizing, uniqueness of keys, descriptive access, and the ability to represent complex data structures. These features make dictionaries a powerful and flexible choice for organizing and managing data in Python, especially when the relationships between data elements are important.\n",
        "\n",
        "12. Describe a scenario where using a tuple would be preferable over a list\n",
        "\n",
        "-> Using a tuple would be preferable over a list in scenarios where immutability, fixed structure, and data integrity are important.\n",
        "Example:\n",
        "You store GPS coordinates of a location:\n",
        "eiffel_tower = (48.8584, 2.2941)\n",
        "Also can be used as keys in dictionaries\n",
        " locations = {\n",
        "         (48.8584, 2.2941): \"Eiffel Tower\",\n",
        "         (40.7128, -74.0060): \"Statue of Liberty\"\n",
        "     }\n",
        "\n",
        "13. How do sets handle duplicate values in Python\n",
        "\n",
        "->Sets are a built-in data structure that automatically handle duplicate values by only allowing unique elements. When you create a set, any duplicate values are automatically removed, ensuring that each element in the set is distinct. Here’s how sets manage duplicates:\n",
        "\n",
        "14. How does the “in” keyword work differently for lists and dictionaries\n",
        "\n",
        "-> - Using in with Lists:\n",
        "When you use the in keyword with a list, it checks for the presence of a specific value (element) within the list.\n",
        "The operation iterates through the list and returns True if the value is found; otherwise, it returns False.\n",
        "Example:\n",
        "my_list = [10, 20, 30, 40]\n",
        "print(20 in my_list)  # Output: True\n",
        "print(50 in my_list)  # Output: False\n",
        "\n",
        " -  Using in with Dictionaries:\n",
        "When you use the in keyword with a dictionary, it checks for the presence of a specific key, not a value.\n",
        "The operation checks if the specified key exists in the dictionary's keys and returns True if found; otherwise, it returns False.\n",
        "Example:\n",
        "my_dict = {'x': 100, 'y': 200, 'z': 300}\n",
        "print('y' in my_dict)  # Output: True\n",
        "print('a' in my_dict)  # Output: False\n",
        "\n",
        "\n",
        "15. Can you modify the elements of a tuple? Explain why or why not\n",
        "\n",
        "-> No, you cannot modify the elements of a tuple in Python. Tuples are immutable, which means that once a tuple is created, its contents cannot be changed, added to, or removed. This immutability is a fundamental characteristic of tuples\n",
        "\n",
        "16. What is a nested dictionary, and give an example of its use case\n",
        "\n",
        "->A nested dictionary in Python is a dictionary that contains other dictionaries as its values. This structure allows for the representation of complex data relationships and hierarchies, making it useful for organizing related information in a clear and structured way.\n",
        "\n",
        "Use Case Example: Storing Student Information\n",
        "Consider a scenario where you want to store information about students in a school, including their names, grades, and subjects. A nested dictionary can effectively represent this data.\n",
        "\n",
        "students = {\n",
        "    \"student1\": {\n",
        "        \"name\": \"Alice\",\n",
        "        \"age\": 20,\n",
        "        \"grades\": {\n",
        "            \"math\": 90,\n",
        "            \"science\": 85,\n",
        "            \"english\": 88\n",
        "        }\n",
        "    },\n",
        "    \"student2\": {\n",
        "        \"name\": \"Bob\",\n",
        "        \"age\": 21,\n",
        "        \"grades\": {\n",
        "            \"math\": 75,\n",
        "            \"science\": 80,\n",
        "            \"english\": 78\n",
        "        }\n",
        "    },\n",
        "    \"student3\": {\n",
        "        \"name\": \"Charlie\",\n",
        "        \"age\": 22,\n",
        "        \"grades\": {\n",
        "            \"math\": 95,\n",
        "            \"science\": 92,\n",
        "            \"english\": 90\n",
        "        }\n",
        "    }\n",
        "}\n",
        "# Accessing data in the nested dictionary\n",
        "print(students[\"student1\"][\"name\"])  # Output: Alice\n",
        "print(students[\"student2\"][\"grades\"][\"math\"])  # Output: 75\n",
        "print(students[\"student3\"][\"grades\"][\"science\"])  # Output: 92\n",
        "\n",
        "\n",
        "17. Describe the time complexity of accessing elements in a dictionary\n",
        "\n",
        "-> The time complexity of accessing elements in a dictionary is generally O(1) on average. This means that, under typical circumstances, you can retrieve a value associated with a key in constant time, regardless of the number of elements in the dictionary. The average time complexity for accessing elements in a dictionary is O(1), making dictionaries highly efficient for lookups. However, in rare cases of hash collisions, the worst-case time complexity can be O(n). Overall, dictionaries are designed to provide fast access to data, which is one of their key advantages.\n",
        "\n",
        "18. In what situations are lists preferred over dictionaries\n",
        "\n",
        "->Lists are preferred when you need an ordered collection of items, require index-based access, or are working with simple sequences of data. They are particularly useful for tasks that involve maintaining the order of elements, performing operations on homogeneous data, or when the overhead of key-value pairs in dictionaries is unnecessary.\n",
        "\n",
        "19. Why are dictionaries considered unordered, and how does that affect data retrieval\n",
        "\n",
        "-> Dictionaries are considered unordered collections because they do not maintain the order of elements based on their insertion. Instead, dictionaries use a hash table to store key-value pairs, which allows for efficient data retrieval but does not guarantee any specific order of the keys.\n",
        "\n",
        " - Unpredictable Iteration Order\n",
        "Looping over a dictionary could return keys in any order, which caused issues if code assumed a specific sequence.\n",
        "\n",
        " - Inconsistent Behavior Across Runs\n",
        "The same dictionary might produce different key orders in different program executions, leading to non-deterministic bugs.\n",
        "\n",
        " - Problems with Serialization & Comparisons\n",
        "Two dictionaries with identical content but different insertion orders could behave differently.\n",
        "\n",
        "20. Explain the difference between a list and a dictionary in terms of data retrieval.\n",
        "\n",
        "-> In case of lists the data is retrieved using the index number where as in case of dictionary data is retrieved using keys.\n"
      ],
      "metadata": {
        "id": "kYGTZmCkHwK4"
      }
    },
    {
      "cell_type": "markdown",
      "source": [
        "1. Write a code to create a string with your name and print it"
      ],
      "metadata": {
        "id": "NBN5bFpFXX0-"
      }
    },
    {
      "cell_type": "code",
      "source": [
        "my_name = \"Chahat\"\n",
        "print(my_name)"
      ],
      "metadata": {
        "colab": {
          "base_uri": "https://localhost:8080/"
        },
        "id": "WFMiFna0XU27",
        "outputId": "09bc7373-ea4d-4814-9f55-33a93391b439"
      },
      "execution_count": 1,
      "outputs": [
        {
          "output_type": "stream",
          "name": "stdout",
          "text": [
            "Chahat\n"
          ]
        }
      ]
    },
    {
      "cell_type": "markdown",
      "source": [
        "2. Write a code to find the length of the string \"Hello World\""
      ],
      "metadata": {
        "id": "H4B0VQW8XWIb"
      }
    },
    {
      "cell_type": "code",
      "source": [
        "string = \"Hello World\"\n",
        "print(len(string))"
      ],
      "metadata": {
        "colab": {
          "base_uri": "https://localhost:8080/"
        },
        "id": "rN7Ldwr6Xns5",
        "outputId": "907d87c4-8d15-4fd6-a170-5c574fffe734"
      },
      "execution_count": 2,
      "outputs": [
        {
          "output_type": "stream",
          "name": "stdout",
          "text": [
            "11\n"
          ]
        }
      ]
    },
    {
      "cell_type": "markdown",
      "source": [
        "3. Write a code to slice the first 3 characters from the string \"Python Programming\""
      ],
      "metadata": {
        "id": "pjV6vUCFXoMq"
      }
    },
    {
      "cell_type": "code",
      "source": [
        "string = \"Python Programming\"\n",
        "print(string[0:3])"
      ],
      "metadata": {
        "colab": {
          "base_uri": "https://localhost:8080/"
        },
        "id": "sEAyA1jTX4IR",
        "outputId": "52149aad-3fce-4e5d-899b-71e7269ab1ad"
      },
      "execution_count": 5,
      "outputs": [
        {
          "output_type": "stream",
          "name": "stdout",
          "text": [
            "Pyt\n"
          ]
        }
      ]
    },
    {
      "cell_type": "markdown",
      "source": [
        "4. Write a code to convert the string \"hello\" to uppercase"
      ],
      "metadata": {
        "id": "zQBrEWLKYYX_"
      }
    },
    {
      "cell_type": "code",
      "source": [
        "string = \"hello\"\n",
        "print(string.upper())"
      ],
      "metadata": {
        "colab": {
          "base_uri": "https://localhost:8080/"
        },
        "id": "UlY7asW5Yd61",
        "outputId": "eb55439d-e27f-415c-e866-340f94a7a117"
      },
      "execution_count": 7,
      "outputs": [
        {
          "output_type": "stream",
          "name": "stdout",
          "text": [
            "HELLO\n"
          ]
        }
      ]
    },
    {
      "cell_type": "markdown",
      "source": [
        " 5. Write a code to replace the word \"apple\" with \"orange\" in the string \"I like apple\""
      ],
      "metadata": {
        "id": "pp1-XNY2YtU1"
      }
    },
    {
      "cell_type": "code",
      "source": [
        "string = \"I like apple\"\n",
        "print(string.replace(\"apple\",\"orange\"))"
      ],
      "metadata": {
        "colab": {
          "base_uri": "https://localhost:8080/"
        },
        "id": "Y29k7db6Yvoh",
        "outputId": "aacc5b60-1287-45af-a2f2-8d11358f0446"
      },
      "execution_count": 8,
      "outputs": [
        {
          "output_type": "stream",
          "name": "stdout",
          "text": [
            "I like orange\n"
          ]
        }
      ]
    },
    {
      "cell_type": "markdown",
      "source": [
        "6. Write a code to create a list with numbers 1 to 5 and print it"
      ],
      "metadata": {
        "id": "EVkPomI_ZDgg"
      }
    },
    {
      "cell_type": "code",
      "source": [
        "list1 = [1,2,3,4,5]\n",
        "print(list1)"
      ],
      "metadata": {
        "colab": {
          "base_uri": "https://localhost:8080/"
        },
        "id": "EAkhONg0-rv7",
        "outputId": "abfa1e52-73c6-4701-a0a8-f8d62acdcfec"
      },
      "execution_count": 1,
      "outputs": [
        {
          "output_type": "stream",
          "name": "stdout",
          "text": [
            "[1, 2, 3, 4, 5]\n"
          ]
        }
      ]
    },
    {
      "cell_type": "markdown",
      "source": [
        "7. Write a code to append the number 10 to the list [1, 2, 3, 4]"
      ],
      "metadata": {
        "id": "LB-RQrJ7_Psi"
      }
    },
    {
      "cell_type": "code",
      "source": [
        "lst = [1,2,3,4]\n",
        "lst.append(10)\n",
        "print(lst)"
      ],
      "metadata": {
        "colab": {
          "base_uri": "https://localhost:8080/"
        },
        "id": "yChDbbC5Y-Lt",
        "outputId": "8a1fda4b-8869-414c-8336-df3b4f008fda"
      },
      "execution_count": 3,
      "outputs": [
        {
          "output_type": "stream",
          "name": "stdout",
          "text": [
            "[1, 2, 3, 4, 10]\n"
          ]
        }
      ]
    },
    {
      "cell_type": "markdown",
      "source": [
        "8. Write a code to remove the number 3 from the list [1, 2, 3, 4, 5]"
      ],
      "metadata": {
        "id": "RWc1xU4LZC02"
      }
    },
    {
      "cell_type": "code",
      "source": [
        "lst = [1,2,3,4,5]\n",
        "lst.remove(3)\n",
        "print(lst)"
      ],
      "metadata": {
        "colab": {
          "base_uri": "https://localhost:8080/"
        },
        "id": "Mrp985mM_xkR",
        "outputId": "1d43af0c-f8b1-4e4c-fee5-048943e6080a"
      },
      "execution_count": 5,
      "outputs": [
        {
          "output_type": "stream",
          "name": "stdout",
          "text": [
            "[1, 2, 4, 5]\n"
          ]
        }
      ]
    },
    {
      "cell_type": "markdown",
      "source": [
        " 9. Write a code to access the second element in the list ['a', 'b', 'c', 'd']"
      ],
      "metadata": {
        "id": "yF8Uy0p-AMa6"
      }
    },
    {
      "cell_type": "code",
      "source": [
        "lst =  ['a', 'b', 'c', 'd']\n",
        "print(lst[1])"
      ],
      "metadata": {
        "colab": {
          "base_uri": "https://localhost:8080/"
        },
        "id": "X5ToKLlXALZn",
        "outputId": "cc14ead4-5f51-4b62-898a-58a9964b89f9"
      },
      "execution_count": 6,
      "outputs": [
        {
          "output_type": "stream",
          "name": "stdout",
          "text": [
            "b\n"
          ]
        }
      ]
    },
    {
      "cell_type": "markdown",
      "source": [
        "10. Write a code to reverse the list [10, 20, 30, 40, 50]."
      ],
      "metadata": {
        "id": "u1tpY-JEAYA2"
      }
    },
    {
      "cell_type": "code",
      "source": [
        "lst =  [10, 20, 30, 40, 50]\n",
        "print(lst[::-1])"
      ],
      "metadata": {
        "colab": {
          "base_uri": "https://localhost:8080/"
        },
        "id": "y8H2tq6GAZZK",
        "outputId": "298061e3-fee8-4ff5-d833-262691c880f1"
      },
      "execution_count": 9,
      "outputs": [
        {
          "output_type": "stream",
          "name": "stdout",
          "text": [
            "[50, 40, 30, 20, 10]\n"
          ]
        }
      ]
    },
    {
      "cell_type": "markdown",
      "source": [
        "11. Write a code to create a tuple with the elements 100, 200, 300 and print it."
      ],
      "metadata": {
        "id": "J6h0wYp4BAwv"
      }
    },
    {
      "cell_type": "code",
      "source": [
        "tup = (100,200,300)\n",
        "print(tup)"
      ],
      "metadata": {
        "colab": {
          "base_uri": "https://localhost:8080/"
        },
        "id": "GT_uIWqVBABM",
        "outputId": "24cc3912-73e3-4a9b-d368-6259fa5598db"
      },
      "execution_count": 10,
      "outputs": [
        {
          "output_type": "stream",
          "name": "stdout",
          "text": [
            "(100, 200, 300)\n"
          ]
        }
      ]
    },
    {
      "cell_type": "markdown",
      "source": [
        "12. Write a code to access the second-to-last element of the tuple ('red', 'green', 'blue', 'yellow')."
      ],
      "metadata": {
        "id": "N1OnyoxkBNcP"
      }
    },
    {
      "cell_type": "code",
      "source": [
        "tup =  ('red', 'green', 'blue', 'yellow')\n",
        "print(tup[1:])"
      ],
      "metadata": {
        "colab": {
          "base_uri": "https://localhost:8080/"
        },
        "id": "ydARfEO2BOJ_",
        "outputId": "2ae20f9b-bab3-40fa-d1a1-f13f9514195b"
      },
      "execution_count": 11,
      "outputs": [
        {
          "output_type": "stream",
          "name": "stdout",
          "text": [
            "('green', 'blue', 'yellow')\n"
          ]
        }
      ]
    },
    {
      "cell_type": "markdown",
      "source": [
        "13. Write a code to find the minimum number in the tuple (10, 20, 5, 15)."
      ],
      "metadata": {
        "id": "fI1rAh0-BbkV"
      }
    },
    {
      "cell_type": "code",
      "source": [
        "tup = (10, 20, 5, 15)\n",
        "print(min(tup))"
      ],
      "metadata": {
        "colab": {
          "base_uri": "https://localhost:8080/"
        },
        "id": "rse9u0eeBcYj",
        "outputId": "48d50c69-5a4b-4fe7-c14c-cc91dd2826e4"
      },
      "execution_count": 12,
      "outputs": [
        {
          "output_type": "stream",
          "name": "stdout",
          "text": [
            "5\n"
          ]
        }
      ]
    },
    {
      "cell_type": "markdown",
      "source": [
        "14. Write a code to find the index of the element \"cat\" in the tuple ('dog', 'cat', 'rabbit')."
      ],
      "metadata": {
        "id": "QSpCeV2XBkQa"
      }
    },
    {
      "cell_type": "code",
      "source": [
        "tup =  ('dog', 'cat', 'rabbit')\n",
        "print(tup.index('cat'))"
      ],
      "metadata": {
        "colab": {
          "base_uri": "https://localhost:8080/"
        },
        "id": "Q-V5_XtdBqGM",
        "outputId": "4d0dde90-d600-49b4-bbe1-923dbaff86ab"
      },
      "execution_count": 15,
      "outputs": [
        {
          "output_type": "stream",
          "name": "stdout",
          "text": [
            "1\n"
          ]
        }
      ]
    },
    {
      "cell_type": "markdown",
      "source": [
        "15. Write a code to create a tuple containing three different fruits and check if \"kiwi\" is in it."
      ],
      "metadata": {
        "id": "hspAw3M5CGSQ"
      }
    },
    {
      "cell_type": "code",
      "source": [
        "tup = ('apple', 'mango', 'banana', 'grapes')\n",
        "print('kiwi' in tup)"
      ],
      "metadata": {
        "colab": {
          "base_uri": "https://localhost:8080/"
        },
        "id": "F8sgjUThCJt6",
        "outputId": "f9d19205-434b-488f-e2d6-b756148262e4"
      },
      "execution_count": 17,
      "outputs": [
        {
          "output_type": "stream",
          "name": "stdout",
          "text": [
            "False\n"
          ]
        }
      ]
    },
    {
      "cell_type": "markdown",
      "source": [
        "16. Write a code to create a set with the elements 'a', 'b', 'c' and print it."
      ],
      "metadata": {
        "id": "5yJvsbpxCtHA"
      }
    },
    {
      "cell_type": "code",
      "source": [
        "set1 = {'a','b','c'}\n",
        "print(set1)"
      ],
      "metadata": {
        "colab": {
          "base_uri": "https://localhost:8080/"
        },
        "id": "nAP1mtn6CuTS",
        "outputId": "4f86a8c1-e072-4d0e-bae2-e42a1d20c15f"
      },
      "execution_count": 20,
      "outputs": [
        {
          "output_type": "stream",
          "name": "stdout",
          "text": [
            "{'c', 'b', 'a'}\n"
          ]
        }
      ]
    },
    {
      "cell_type": "markdown",
      "source": [
        "17. Write a code to clear all elements from the set {1, 2, 3, 4, 5}."
      ],
      "metadata": {
        "id": "7GATAGhTDEEt"
      }
    },
    {
      "cell_type": "code",
      "source": [
        "set1 =  {1, 2, 3, 4, 5}\n",
        "set1.clear()\n",
        "print(set1)"
      ],
      "metadata": {
        "colab": {
          "base_uri": "https://localhost:8080/"
        },
        "id": "CxAVJKP9DFBO",
        "outputId": "5c74dbc4-7ae0-4428-8181-5d40d4f70180"
      },
      "execution_count": 21,
      "outputs": [
        {
          "output_type": "stream",
          "name": "stdout",
          "text": [
            "set()\n"
          ]
        }
      ]
    },
    {
      "cell_type": "markdown",
      "source": [
        "18. Write a code to remove the element 4 from the set {1, 2, 3, 4}."
      ],
      "metadata": {
        "id": "8aBp_wYkDS51"
      }
    },
    {
      "cell_type": "code",
      "source": [
        "set1 = {1,2,3,4}\n",
        "set1.remove(4)\n",
        "print(set1)"
      ],
      "metadata": {
        "colab": {
          "base_uri": "https://localhost:8080/"
        },
        "id": "dTc2LynCDPG4",
        "outputId": "e29b5219-9f94-4557-9897-652ddb055007"
      },
      "execution_count": 23,
      "outputs": [
        {
          "output_type": "stream",
          "name": "stdout",
          "text": [
            "{1, 2, 3}\n"
          ]
        }
      ]
    },
    {
      "cell_type": "markdown",
      "source": [
        "19. Write a code to find the union of two sets {1, 2, 3} and {3, 4, 5}."
      ],
      "metadata": {
        "id": "triwRbcdDkA7"
      }
    },
    {
      "cell_type": "code",
      "source": [
        "set1 = {1,2,3}\n",
        "set2 = {3,4,5}\n",
        "print(set1.union(set2))"
      ],
      "metadata": {
        "colab": {
          "base_uri": "https://localhost:8080/"
        },
        "id": "x0UqYw-cDR_L",
        "outputId": "c8a9b011-deb4-4f97-c262-a96f001efe90"
      },
      "execution_count": 24,
      "outputs": [
        {
          "output_type": "stream",
          "name": "stdout",
          "text": [
            "{1, 2, 3, 4, 5}\n"
          ]
        }
      ]
    },
    {
      "cell_type": "markdown",
      "source": [
        "20. Write a code to find the intersection of two sets {1, 2, 3} and {2, 3, 4}."
      ],
      "metadata": {
        "id": "c56vpPwPD3zn"
      }
    },
    {
      "cell_type": "code",
      "source": [
        "set1 = {1,2,3}\n",
        "set2 = {2,3,4}\n",
        "print(set1.intersection(set2))"
      ],
      "metadata": {
        "colab": {
          "base_uri": "https://localhost:8080/"
        },
        "id": "NAiBdegBD4cl",
        "outputId": "c3dc5ee2-a886-45f7-e0ba-d89c114e0203"
      },
      "execution_count": 25,
      "outputs": [
        {
          "output_type": "stream",
          "name": "stdout",
          "text": [
            "{2, 3}\n"
          ]
        }
      ]
    },
    {
      "cell_type": "markdown",
      "source": [
        "21. Write a code to create a dictionary with the keys \"name\", \"age\", and \"city\", and print it."
      ],
      "metadata": {
        "id": "8nE1jxoUEEpU"
      }
    },
    {
      "cell_type": "code",
      "source": [
        "dict = {\n",
        "    \"name\": \"test\",\n",
        "    \"age\": 20,\n",
        "    \"city\": \"chandigarh\"\n",
        "}\n",
        "print(dict)"
      ],
      "metadata": {
        "colab": {
          "base_uri": "https://localhost:8080/"
        },
        "id": "HtKtaIgHEFh3",
        "outputId": "5e0c3e9f-9485-4e1a-c9f1-b5fa206757fc"
      },
      "execution_count": 27,
      "outputs": [
        {
          "output_type": "stream",
          "name": "stdout",
          "text": [
            "{'name': 'test', 'age': 20, 'city': 'chandigarh'}\n"
          ]
        }
      ]
    },
    {
      "cell_type": "markdown",
      "source": [
        "22. Write a code to add a new key-value pair \"country\": \"USA\" to the dictionary {'name': 'John', 'age': 25}."
      ],
      "metadata": {
        "id": "ifv9FoVaEfld"
      }
    },
    {
      "cell_type": "code",
      "source": [
        "dict1 = {\n",
        "    \"name\":\"John\",\n",
        "    \"age\":25\n",
        "}\n",
        "dict1.update({\"country\":\"USA\"})\n",
        "print(dict1)\n"
      ],
      "metadata": {
        "colab": {
          "base_uri": "https://localhost:8080/"
        },
        "id": "AeF8g_oCEinQ",
        "outputId": "a0a7a14b-ef23-41bc-b3bf-b00d9aab7f5b"
      },
      "execution_count": 28,
      "outputs": [
        {
          "output_type": "stream",
          "name": "stdout",
          "text": [
            "{'name': 'John', 'age': 25, 'country': 'USA'}\n"
          ]
        }
      ]
    },
    {
      "cell_type": "markdown",
      "source": [
        "23. Write a code to access the value associated with the key \"name\" in the dictionary {'name': 'Alice', 'age': 30}."
      ],
      "metadata": {
        "id": "tYmI5mZNE9Xe"
      }
    },
    {
      "cell_type": "code",
      "source": [
        "dict1 = {\n",
        "    \"name\":\"Alice\",\n",
        "    \"age\":30\n",
        "}\n",
        "print(dict1[\"name\"])"
      ],
      "metadata": {
        "colab": {
          "base_uri": "https://localhost:8080/"
        },
        "id": "_l6s5iYjE-OJ",
        "outputId": "43f68af9-09a1-4cbe-ede8-247a2409eb58"
      },
      "execution_count": 29,
      "outputs": [
        {
          "output_type": "stream",
          "name": "stdout",
          "text": [
            "Alice\n"
          ]
        }
      ]
    },
    {
      "cell_type": "markdown",
      "source": [
        "24. Write a code to remove the key \"age\" from the dictionary {'name': 'Bob', 'age': 22, 'city': 'New York'}."
      ],
      "metadata": {
        "id": "Vm4G2Hb1FM8V"
      }
    },
    {
      "cell_type": "code",
      "source": [
        "dict1 = {\n",
        "    \"name\":\"Bob\",\n",
        "    \"age\":22,\n",
        "    \"city\":\"New York\"\n",
        "}\n",
        "dict1.pop(\"age\")\n",
        "print(dict1)"
      ],
      "metadata": {
        "colab": {
          "base_uri": "https://localhost:8080/"
        },
        "id": "MxjfDj0uFNol",
        "outputId": "fc6f7f1f-249d-4a2f-ce26-57b777d34e65"
      },
      "execution_count": 32,
      "outputs": [
        {
          "output_type": "stream",
          "name": "stdout",
          "text": [
            "{'name': 'Bob', 'city': 'New York'}\n"
          ]
        }
      ]
    },
    {
      "cell_type": "markdown",
      "source": [
        "25. Write a code to check if the key \"city\" exists in the dictionary {'name': 'Alice', 'city': 'Paris'}."
      ],
      "metadata": {
        "id": "FZET8MwHFtyW"
      }
    },
    {
      "cell_type": "code",
      "source": [
        "dict1 = {\n",
        "    \"name\":\"Alice\",\n",
        "    \"city\":\"Paris\"\n",
        "}\n",
        "print('city' in dict1)"
      ],
      "metadata": {
        "colab": {
          "base_uri": "https://localhost:8080/"
        },
        "id": "IZolRqX-FxmG",
        "outputId": "9fb7be31-f4a2-41bc-cfd9-ab1826779fdd"
      },
      "execution_count": 33,
      "outputs": [
        {
          "output_type": "stream",
          "name": "stdout",
          "text": [
            "True\n"
          ]
        }
      ]
    },
    {
      "cell_type": "markdown",
      "source": [
        "26. Write a code to create a list, a tuple, and a dictionary, and print them all."
      ],
      "metadata": {
        "id": "plNUzhSHGLAS"
      }
    },
    {
      "cell_type": "code",
      "source": [
        "list1 = [1,2,3,4,5,6]\n",
        "tup = ('books','cars','toys')\n",
        "dict1 = {\n",
        "    \"name\":\"Alice\",\n",
        "    \"age\" : 20\n",
        "}\n",
        "print(\"list: \", list1)\n",
        "print(\"tuple: \", tup)\n",
        "print(\"dictionary: \", dict1)"
      ],
      "metadata": {
        "colab": {
          "base_uri": "https://localhost:8080/"
        },
        "id": "rZ2LhlczGVHc",
        "outputId": "902e80f7-d574-4f84-d7c7-7556d47e1dcb"
      },
      "execution_count": 36,
      "outputs": [
        {
          "output_type": "stream",
          "name": "stdout",
          "text": [
            "list:  [1, 2, 3, 4, 5, 6]\n",
            "tuple:  ('books', 'cars', 'toys')\n",
            "dictionary:  {'name': 'Alice', 'age': 20}\n"
          ]
        }
      ]
    },
    {
      "cell_type": "markdown",
      "source": [
        "27. Write a code to create a list of 5 random numbers between 1 and 100, sort it in ascending order, and print the\n",
        "result.(replaced)"
      ],
      "metadata": {
        "id": "WyDePVw6HKjY"
      }
    },
    {
      "cell_type": "code",
      "source": [
        "list1 = [12,56,78,34,89]\n",
        "list1.sort()\n",
        "print(list1)"
      ],
      "metadata": {
        "colab": {
          "base_uri": "https://localhost:8080/"
        },
        "id": "9mA87jM9HTRd",
        "outputId": "6551e68a-f1ef-478f-eac6-df346a394044"
      },
      "execution_count": 39,
      "outputs": [
        {
          "output_type": "stream",
          "name": "stdout",
          "text": [
            "[12, 34, 56, 78, 89]\n"
          ]
        }
      ]
    },
    {
      "cell_type": "markdown",
      "source": [
        "28. Write a code to create a list with strings and print the element at the third index."
      ],
      "metadata": {
        "id": "VKnNcggdIFhk"
      }
    },
    {
      "cell_type": "code",
      "source": [
        "list1 = ['apple','banana','orange','kiwi']\n",
        "print(list1[3])"
      ],
      "metadata": {
        "colab": {
          "base_uri": "https://localhost:8080/"
        },
        "id": "9ae2W5DNIHvo",
        "outputId": "3625794e-c813-4d3f-cc4c-a0aef65b4b9a"
      },
      "execution_count": 40,
      "outputs": [
        {
          "output_type": "stream",
          "name": "stdout",
          "text": [
            "kiwi\n"
          ]
        }
      ]
    },
    {
      "cell_type": "markdown",
      "source": [
        "29. Write a code to combine two dictionaries into one and print the result."
      ],
      "metadata": {
        "id": "gBSLIJ5RISfb"
      }
    },
    {
      "cell_type": "code",
      "source": [
        "dict1 = {\n",
        "    \"name\": \"John\",\n",
        "    \"age\": 29,\n",
        "    \"gender\" : \"male\"\n",
        "}\n",
        "dict2 = {\n",
        "    \"country\": \"USA\"\n",
        "}\n",
        "dict1.update(dict2)\n",
        "print(dict1)"
      ],
      "metadata": {
        "colab": {
          "base_uri": "https://localhost:8080/"
        },
        "id": "H-4D--3yITRU",
        "outputId": "65e9d7a0-467f-43dc-88d4-111d3004d74f"
      },
      "execution_count": 42,
      "outputs": [
        {
          "output_type": "stream",
          "name": "stdout",
          "text": [
            "{'name': 'John', 'age': 29, 'gender': 'male', 'country': 'USA'}\n"
          ]
        }
      ]
    },
    {
      "cell_type": "markdown",
      "source": [
        "30. Write a code to convert a list of strings into a set."
      ],
      "metadata": {
        "id": "3GKXO77DJWG1"
      }
    },
    {
      "cell_type": "code",
      "execution_count": 45,
      "metadata": {
        "colab": {
          "base_uri": "https://localhost:8080/"
        },
        "id": "93CgDAoKHr34",
        "outputId": "b8080fe2-ab26-46fb-f683-ff3eba9bc1c1"
      },
      "outputs": [
        {
          "output_type": "stream",
          "name": "stdout",
          "text": [
            "{'kiwi', 'banana', 'apple', 'orange'}\n"
          ]
        }
      ],
      "source": [
        "list1 = ['apple','banana','orange','kiwi']\n",
        "print(set(list1))"
      ]
    }
  ]
}