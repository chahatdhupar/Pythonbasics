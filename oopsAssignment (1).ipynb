{
  "nbformat": 4,
  "nbformat_minor": 0,
  "metadata": {
    "colab": {
      "provenance": []
    },
    "kernelspec": {
      "name": "python3",
      "display_name": "Python 3"
    },
    "language_info": {
      "name": "python"
    }
  },
  "cells": [
    {
      "cell_type": "markdown",
      "source": [
        " 1. What is Object-Oriented Programming (OOP)?\n",
        "\n",
        " -> Object-Oriented Programming (OOP) is a programming paradigm that uses \"objects\" to represent data and methods to manipulate that data. In Python, OOP allows developers to create classes that define the properties and behaviors of objects\n",
        "\n",
        "\n",
        "2. What is a class in OOP?\n",
        "\n",
        "->In Object-Oriented Programming (OOP), a class is a blueprint or template for creating objects. It defines a set of attributes (data) and methods (functions) that the objects created from the class can use. Classes encapsulate data for the object and provide a way to manipulate that data through methods.\n",
        "\n",
        "\n",
        "3. What is an object in OOP?\n",
        "\n",
        "->In Object-Oriented Programming (OOP), an object is an instance of a class. It represents a specific entity that has its own state (data) and behavior (methods) defined by the class from which it is created. Objects are the fundamental building blocks of OOP, allowing developers to model real-world entities and their interactions in a structured way.\n",
        "\n",
        "\n",
        "4. What is the difference between abstraction and encapsulation?\n",
        "\n",
        "->Abstraction is the concept of hiding the complex implementation details of a system and exposing only the essential features to the user. It focuses on what an object does rather than how it does it. On the other hand,\n",
        "Encapsulation is the concept of bundling the data (attributes) and methods (functions) that operate on the data into a single unit, typically a class. It restricts direct access to some of the object's components, which is a means of preventing unintended interference and misuse.\n",
        "\n",
        "\n",
        "5. What are dunder methods in Python?\n",
        "\n",
        "->Dunder methods, short for \"double underscore\" methods, are special methods in Python that have names starting and ending with double underscores (e.g., __init__, __str__, __add__). These methods are also known as \"magic methods\" or \"special methods.\" They allow you to define the behavior of your objects for built-in operations and functions, enabling a more intuitive and Pythonic way to interact with your custom classes.\n",
        "\n",
        "\n",
        "6. Explain the concept of inheritance in OOP?\n",
        "\n",
        "->nheritance is a fundamental concept in Object-Oriented Programming (OOP) that allows a new class (known as a derived or child class) to inherit attributes and methods from an existing class (known as a base or parent class). This mechanism promotes code reusability, establishes a hierarchical relationship between classes, and allows for the creation of more specialized classes based on general ones.\n",
        "Key Features of Inheritance:\n",
        " - Code Reusability:\n",
        " - Hierarchical Relationships:\n",
        " - Method Overriding:\n",
        "\n",
        "\n",
        "7. What is polymorphism in OOP?\n",
        "\n",
        "->Polymorphism is a core concept in Object-Oriented Programming (OOP) that allows objects of different classes to be treated as objects of a common superclass. It enables a single interface to represent different underlying forms (data types). The term \"polymorphism\" means \"many shapes\" and refers to the ability of different classes to provide a unique implementation of methods that share the same name.\n",
        "\n",
        "\n",
        "8. How is encapsulation achieved in Python?\n",
        "\n",
        "->Encapsulation in Python is achieved through the use of public, protected, and private access modifiers:\n",
        "\n",
        "Public: Attributes and methods are accessible from outside the class.\n",
        "Protected: Attributes and methods are intended for internal use and should not be accessed directly outside the class or its subclasses (indicated by a single underscore).\n",
        "Private: Attributes and methods are intended to be hidden from outside access (indicated by a double underscore), and Python uses name mangling to enforce this.\n",
        "Encapsulation helps in protecting the internal state of an object, maintaining data integrity, and providing a clear interface for interacting with the object.\n",
        "\n",
        "\n",
        "9. What is a constructor in Python?\n",
        "\n",
        "->In Python, a constructor is a special method that is automatically called when an instance (object) of a class is created. The primary purpose of a constructor is to initialize the attributes of the new object and set up any necessary state. In Python, the constructor method is defined using the __init__ method.\n",
        "\n",
        "\n",
        "10. What are class and static methods in Python?\n",
        "\n",
        "->A class method is a method that is bound to the class rather than its instance. It can modify class state that applies across all instances of the class.Class methods are defined using the @classmethod decorator.The first parameter of a class method is typically named cls, which refers to the class itself, not the instance.Example:\n",
        "\n",
        "\n",
        "class Dog:\n",
        "  species = \"Canis lupus familiaris\"  # Class attribute\n",
        "\n",
        "  def __init__(self, name):\n",
        "    self.name = name  # Instance attribute\n",
        "\n",
        "  @classmethod\n",
        "    def get_species(cls):\n",
        "      return cls.species\n",
        "# Using the class method\n",
        "print(Dog.get_species())  # Outputs: Canis lupus familiaris\n",
        "\n",
        "A static method is a method that does not modify class or instance state. It behaves like a regular function but belongs to the class's namespace. Static methods do not take self or cls as the first parameter.Static methods are defined using the @staticmethod decorator.Static methods are used when you want to perform some operation that is related to the class but does not need access to class or instance attributes. Example:\n",
        "\n",
        "class MathOperations:\n",
        "    @staticmethod\n",
        "    def add(x, y):\n",
        "        return x + y\n",
        "    @staticmethod\n",
        "    def multiply(x, y):\n",
        "        return x * y\n",
        "# Using static methods\n",
        "print(MathOperations.add(5, 3))      # Outputs: 8\n",
        "print(MathOperations.multiply(5, 3))  # Outputs\n",
        "\n",
        "11. What is method overloading in Python?\n",
        "\n",
        "->Method overloading is a programming concept that allows a class to have multiple methods with the same name but different parameters (i.e., different signatures). This enables the same method name to perform different tasks based on the input arguments. However, it's important to note that Python does not support traditional method overloading as seen in some other programming languages (like Java or C++). Instead, Python achieves similar functionality through default arguments, variable-length arguments, and type checking within a single method.\n",
        "\n",
        "class MathOperations:\n",
        "    def add(self, *args):\n",
        "        \"\"\"Add any number of numbers.\"\"\"\n",
        "        return sum(args)\n",
        "\n",
        "# Creating an instance of MathOperations\n",
        "math_ops = MathOperations()\n",
        "\n",
        "# Calling the add method with different numbers of arguments\n",
        "result1 = math_ops.add(5, 10)  # Outputs: 15\n",
        "result2 = math_ops.add(5, 10, 15, 20)  # Outputs: 50\n",
        "\n",
        "print(result1)  # Outputs: 15\n",
        "print(result2)  # Outputs: 50\n",
        "\n",
        "\n",
        "\n",
        "12. What is method overriding in OOP?\n",
        "\n",
        "->Method overriding occurs when a subclass defines a method with the same name as a method in the parent class. The child’s version replaces the parent’s during runtime.\n",
        "\n",
        "\n",
        "class Animal:\n",
        "    def speak(self):\n",
        "        print(\"Animal sound\")\n",
        "\n",
        "class Dog(Animal):\n",
        "    def speak(self):\n",
        "        print(\"Bark!\")\n",
        "\n",
        "dog = Dog()\n",
        "dog.speak()  # Output: Bark!\n",
        "\n",
        "\n",
        "13. What is a property decorator in Python?\n",
        "\n",
        "-> The property decorator is a built-in decorator that allows you to define methods in a class that can be accessed like attributes. It provides a way to manage the access to an attribute by defining getter, setter, and deleter methods, which can encapsulate the logic for getting, setting, and deleting an attribute's value. This is useful for implementing encapsulation and data validation.\n",
        "class Circle:\n",
        "    def __init__(self, radius):\n",
        "        self._radius = radius\n",
        "\n",
        "    @property\n",
        "    def radius(self):\n",
        "        return self._radius\n",
        "\n",
        "c = Circle(5)\n",
        "print(c.radius)\n",
        "\n",
        "14. Why is polymorphism important in OOP?\n",
        "\n",
        "->Polymorphism is important in OOP because it promotes code reusability, flexibility, and maintainability. It allows for dynamic method resolution, improves code organization, and simplifies interfaces, making it easier to work with different types of objects in a consistent manner. By leveraging polymorphism, developers can create more robust and adaptable software systems.\n",
        "\n",
        "\n",
        "class Animal:\n",
        "    def speak(self):\n",
        "        raise NotImplementedError(\"Subclasses must implement this method\")\n",
        "\n",
        "class Dog(Animal):\n",
        "    def speak(self):\n",
        "        return \"Woof!\"\n",
        "\n",
        "class Cat(Animal):\n",
        "    def speak(self):\n",
        "        return \"Meow!\"\n",
        "\n",
        "def animal_sound(animal):\n",
        "    print(animal.speak())\n",
        "\n",
        "# Creating instances\n",
        "dog = Dog()\n",
        "cat = Cat()\n",
        "\n",
        "# Using polymorphism\n",
        "animal_sound(dog)  # Outputs: Woof!\n",
        "animal_sound(cat)  # Outputs: Meow!\n",
        "\n",
        "\n",
        "15. What is an abstract class in Python?\n",
        "\n",
        "->An abstract class in Python is a class that cannot be instantiated on its own and is designed to be a base class for other classes. It serves as a blueprint for other classes, defining a common interface and potentially providing some default behavior. Abstract classes are used to enforce a certain structure in derived classes, ensuring that they implement specific methods.\n",
        "\n",
        "from abc import ABC, abstractmethod\n",
        "\n",
        "class Vehicle(ABC):\n",
        "    @abstractmethod\n",
        "    def start_engine(self):\n",
        "        \"\"\"Start the vehicle's engine\"\"\"\n",
        "        pass\n",
        "\n",
        "    @abstractmethod\n",
        "    def stop_engine(self):\n",
        "        \"\"\"Stop the vehicle's engine\"\"\"\n",
        "        pass\n",
        "\n",
        "    def fuel_type(self):\n",
        "        \"\"\"Return the type of fuel used by the vehicle\"\"\"\n",
        "        return \"Unknown fuel type\"\n",
        "\n",
        "class Car(Vehicle):\n",
        "    def start_engine(self):\n",
        "        return \"Car engine started\"\n",
        "\n",
        "    def stop_engine(self):\n",
        "        return \"Car engine stopped\"\n",
        "\n",
        "    def fuel_type(self):\n",
        "        return \"Petrol\"\n",
        "\n",
        "class ElectricCar(Vehicle):\n",
        "    def start_engine(self):\n",
        "        return \"Electric car engine started silently\"\n",
        "\n",
        "    def stop_engine(self):\n",
        "        return \"Electric car engine stopped\"\n",
        "\n",
        "    def fuel_type(self):\n",
        "        return \"Electricity\"\n",
        "\n",
        "# Example usage\n",
        "vehicles = [Car(), ElectricCar()]\n",
        "\n",
        "for vehicle in vehicles:\n",
        "    print(vehicle.start_engine())  # Outputs: Car engine started / Electric car engine started silently\n",
        "    print(vehicle.fuel_type())      # Outputs: Petrol / Electricity\n",
        "    print(vehicle.stop_engine())    # Outputs: Car engine stopped / Electric car engine stopped\n",
        "\n",
        "\n",
        "\n",
        "16. What are the advantages of OOP?\n",
        "\n",
        "->OOP offers several advantages that contribute to the development of robust, maintainable, and scalable software systems. Here are some of the key advantages of OOP:\n",
        "  Modularity : Code is organized into objects.\n",
        "\n",
        "  Reusability : Inheritance allows code reuse.\n",
        "\n",
        "  Encapsulation : Internal details are hidden from the user.\n",
        "\n",
        "  Polymorphism : Same interface, different behaviors.\n",
        "\n",
        "  Maintainability : Easier to modify or scale code.\n",
        "\n",
        "\n",
        "\n",
        "17. What is the difference between a class variable and an instance variable?\n",
        "\n",
        "->Class Variables: Shared among all instances, defined at the class level, and exist for the lifetime of the class.\n",
        "\n",
        "Instance Variables: Unique to each instance, defined within instance methods, and exist for the lifetime of the object.\n",
        "\n",
        "class Dog:\n",
        "    # Class variable\n",
        "    species = \"Canis lupus familiaris\"  # Shared by all instances\n",
        "\n",
        "    def __init__(self, name, age):\n",
        "        # Instance variables\n",
        "        self.name = name  # Unique to each instance\n",
        "        self.age = age    # Unique to each instance\n",
        "\n",
        "# Creating instances of Dog\n",
        "dog1 = Dog(\"Buddy\", 3)\n",
        "dog2 = Dog(\"Max\", 5)\n",
        "\n",
        "# Accessing class variable\n",
        "print(f\"{dog1.name} is a {dog1.species}\")  # Outputs: Buddy is a Canis lupus familiaris\n",
        "print(f\"{dog2.name} is a {dog2.species}\")  # Outputs: Max is a Canis lupus familiaris\n",
        "\n",
        "# Accessing instance variables\n",
        "print(f\"{dog1.name} is {dog1.age} years old\")  # Outputs: Buddy is 3 years old\n",
        "print(f\"{dog2.name} is {dog2.age} years old\")  # Outputs: Max is 5 years old\n",
        "\n",
        "# Modifying the class variable\n",
        "Dog.species = \"Dog\"\n",
        "\n",
        "# Accessing the modified class variable\n",
        "print(f\"{dog1.name} is a {dog1.species}\")  # Outputs: Buddy is a Dog\n",
        "print(f\"{dog2.name} is a {dog2.species}\")  # Outputs: Max is a Dog\n",
        "\n",
        "18. What is multiple inheritance in Python?\n",
        "\n",
        "->Multiple inheritance is a feature in Python (and other object-oriented programming languages) that allows a class to inherit attributes and methods from more than one parent class. This means that a derived class can have multiple base classes, enabling it to combine behaviors and properties from multiple sources.\n",
        "\n",
        "class Animal:\n",
        "    def speak(self):\n",
        "        return \"Animal speaks\"\n",
        "\n",
        "class Dog(Animal):\n",
        "    def speak(self):\n",
        "        return \"Woof!\"\n",
        "\n",
        "class Cat(Animal):\n",
        "    def speak(self):\n",
        "        return \"Meow!\"\n",
        "\n",
        "class HybridDogCat(Dog, Cat):\n",
        "    def speak(self):\n",
        "        return f\"{Dog.speak(self)} and {Cat.speak(self)}\"\n",
        "\n",
        "# Creating an instance of HybridDogCat\n",
        "hybrid = HybridDogCat()\n",
        "print(hybrid.speak())  # Outputs: Woof! and Meow!\n",
        "\n",
        "\n",
        "19. Explain the purpose of ‘’__str__’ and ‘__repr__’ ‘ methods in Python?\n",
        "\n",
        "-> __str__ Method\n",
        "Purpose: The __str__ method is intended to provide a \"user-friendly\" string representation of an object. It is meant to be readable and provide a clear description of the object when printed or converted to a string.\n",
        "\n",
        "Usage: The __str__ method is called by the built-in str() function and by the print() function. It is used when you want to display the object in a way that is easy for end-users to understand.\n",
        "\n",
        "Return Value: The __str__ method should return a string that represents the object in a way that is meaningful to the user.\n",
        "\n",
        "__repr__ Method\n",
        "Purpose: The __repr__ method is intended to provide an \"official\" string representation of an object that can ideally be used to recreate the object. It is meant for developers and is more detailed than the string representation provided by __str__.\n",
        "\n",
        "Usage: The __repr__ method is called by the built-in repr() function and is also used in the interactive interpreter when you type the name of an object. It is useful for debugging and logging.\n",
        "\n",
        "Return Value: The __repr__ method should return a string that, when passed to the eval() function, would create an object with the same state as the original object (if possible). If this is not feasible, it should at least provide a detailed representation of the object.\n",
        "\n",
        "\n",
        "20. What is the significance of the ‘super()’ function in Python?\n",
        "\n",
        "-> The super() function in Python is significant for:\n",
        "\n",
        "Accessing methods from a parent class without explicitly naming it.\n",
        "Supporting multiple inheritance and ensuring the correct method resolution order.\n",
        "Initializing parent class attributes and methods in subclasses.\n",
        "Improving code maintainability and readability.\n",
        "Using super() is a best practice in object-oriented programming in Python, as it promotes cleaner and more maintainable code.\n",
        "\n",
        "\n",
        "class Animal:\n",
        "    def __init__(self, name):\n",
        "        self.name = name\n",
        "\n",
        "    def speak(self):\n",
        "        return \"Animal speaks\"\n",
        "\n",
        "class Dog(Animal):\n",
        "    def __init__(self, name, breed):\n",
        "        super().__init__(name)  # Call the parent class's __init__ method\n",
        "        self.breed = breed\n",
        "\n",
        "    def speak(self):\n",
        "        return \"Woof!\"\n",
        "\n",
        "# Creating an instance of Dog\n",
        "dog = Dog(\"Buddy\", \"Golden Retriever\")\n",
        "\n",
        "# Accessing attributes and methods\n",
        "print(dog.name)  # Outputs: Buddy\n",
        "print(dog.breed)  # Outputs: Golden Retriever\n",
        "print(dog.speak())  # Outputs: Woof!\n",
        "\n",
        "\n",
        "21. What is the significance of the __del__ method in Python?\n",
        "\n",
        "->The __del__ method in Python is significant for:\n",
        "\n",
        "Managing resource cleanup and releasing external resources when an object is destroyed.\n",
        "Defining custom cleanup logic for objects.\n",
        "Automatically invoked by the garbage collector when an object’s reference count drops to zero.\n",
        "\n",
        "\n",
        "22. What is the difference between @staticmethod and @classmethod in Python?\n",
        "\n",
        "->@staticmethod:\n",
        "\n",
        "A static method does not receive any implicit first argument (like self or cls). It behaves like a regular function but belongs to the class's namespace.\n",
        "It is used when you want to define a method that does not need access to the instance (self) or the class (cls). It can be called on the class itself or on instances of the class.\n",
        "\n",
        "@classmethod:\n",
        "\n",
        "A class method receives the class itself as the first argument (usually named cls). This allows it to access class-level attributes and methods.\n",
        "It is used when you want to define a method that needs to operate on the class itself rather than on instances of the class. It can be useful for factory methods or methods that modify class state.\n",
        "\n",
        "class Circle:\n",
        "    pi = 3.14159  # Class variable\n",
        "\n",
        "    def __init__(self, radius):\n",
        "        self.radius = radius  # Instance variable\n",
        "\n",
        "    @staticmethod\n",
        "    def area(radius):\n",
        "        \"\"\"Calculate the area of a circle given its radius.\"\"\"\n",
        "        return Circle.pi * (radius ** 2)\n",
        "\n",
        "    @classmethod\n",
        "    def from_diameter(cls, diameter):\n",
        "        \"\"\"Create a Circle instance from a diameter.\"\"\"\n",
        "        radius = diameter / 2\n",
        "        return cls(radius)\n",
        "\n",
        "# Using the static method\n",
        "print(Circle.area(5))  # Outputs: 78.53975\n",
        "\n",
        "# Using the class method\n",
        "circle_instance = Circle.from_diameter(10)\n",
        "print(circle_instance.radius)  # Outputs: 5.0\n",
        "\n",
        "\n",
        "\n",
        "23. How does polymorphism work in Python with inheritance?\n",
        "\n",
        "->Polymorphism in Python with inheritance allows different classes to define methods with the same name but different implementations. This is achieved through method overriding and duck typing, enabling a unified interface for interacting with different types of objects. Polymorphism enhances code reusability, flexibility, and maintainability, making it a powerful feature in object-oriented programming.\n",
        "\n",
        "class Animal:\n",
        "    def speak(self):\n",
        "        raise NotImplementedError(\"Subclasses must implement this method\")\n",
        "\n",
        "class Dog(Animal):\n",
        "    def speak(self):\n",
        "        return \"Woof!\"\n",
        "\n",
        "class Cat(Animal):\n",
        "    def speak(self):\n",
        "        return \"Meow!\"\n",
        "\n",
        "class Cow(Animal):\n",
        "    def speak(self):\n",
        "        return \"Moo!\"\n",
        "\n",
        "# Function that uses polymorphism\n",
        "def animal_sound(animal):\n",
        "    print(animal.speak())\n",
        "\n",
        "# Creating instances of different animals\n",
        "dog = Dog()\n",
        "cat = Cat()\n",
        "cow = Cow()\n",
        "\n",
        "# Calling the function with different animal instances\n",
        "animal_sound(dog)  # Outputs: Woof!\n",
        "animal_sound(cat)  # Outputs: Meow!\n",
        "animal_sound(cow)  # Outputs: Moo!\n",
        "\n",
        "\n",
        "\n",
        "24. What is method chaining in Python OOP?\n",
        "\n",
        "->Method chaining is a programming technique in object-oriented programming (OOP) that allows multiple method calls to be made on the same object in a single statement. This is achieved by having each method return the object itself (usually self), enabling the next method to be called directly on the returned object. Method chaining can lead to more concise and readable code.\n",
        "\n",
        "class Builder:\n",
        "    def __init__(self):\n",
        "        self.result = \"\"\n",
        "\n",
        "    def add_text(self, text):\n",
        "        self.result += text + \" \"\n",
        "        return self  # Return the object itself for chaining\n",
        "\n",
        "    def add_exclamation(self):\n",
        "        self.result += \"!\"\n",
        "        return self  # Return the object itself for chaining\n",
        "\n",
        "    def get_result(self):\n",
        "        return self.result.strip()  # Return the final result\n",
        "\n",
        "# Using method chaining\n",
        "builder = Builder()\n",
        "final_result = (builder\n",
        "                 .add_text(\"Hello\")\n",
        "                 .add_text(\"world\")\n",
        "                 .add_exclamation()\n",
        "                 .get_result())\n",
        "\n",
        "print(final_result)  # Outputs: Hello world!\n",
        "\n",
        "\n",
        "\n",
        "25. What is the purpose of the __call__ method in Python?\n",
        "\n",
        "->The __call__ method in Python is a special method that allows an instance of a class to be called as if it were a function. When you define the __call__ method in a class, you enable instances of that class to be invoked using parentheses, just like a regular function. This can be useful for creating callable objects that encapsulate behavior and state.\n",
        "\n",
        "class Adder:\n",
        "    def __init__(self, increment):\n",
        "        self.increment = increment  # Store the increment value\n",
        "\n",
        "    def __call__(self, value):\n",
        "        \"\"\"Add the increment to the given value.\"\"\"\n",
        "        return value + self.increment\n",
        "\n",
        "# Creating an instance of Adder\n",
        "add_five = Adder(5)\n",
        "\n",
        "# Using the instance as a callable\n",
        "result = add_five(10)  # Calls the __call__ method\n",
        "print(result)  # Outputs: 15\n"
      ],
      "metadata": {
        "id": "PHlcNJsD1dD1"
      }
    },
    {
      "cell_type": "markdown",
      "source": [
        "1. Create a parent class Animal with a method speak() that prints a generic message. Create a child class Dog\n",
        "that overrides the speak() method to print \"Bark!\"."
      ],
      "metadata": {
        "id": "8UcsuDvSipdD"
      }
    },
    {
      "cell_type": "code",
      "execution_count": null,
      "metadata": {
        "colab": {
          "base_uri": "https://localhost:8080/"
        },
        "id": "II8wzJyM1T_7",
        "outputId": "4af5d5d2-8255-46bf-af7b-05c24e64c8ac"
      },
      "outputs": [
        {
          "output_type": "stream",
          "name": "stdout",
          "text": [
            "Bark!\n"
          ]
        }
      ],
      "source": [
        "class Animal:\n",
        "  def speak(self):\n",
        "    print(\"Animals can make different sounds\")\n",
        "\n",
        "class Dog(Animal):\n",
        "  def speak(self):\n",
        "        print(\"Bark!\")\n",
        "\n",
        "animal_obj = Animal()\n",
        "dog_obj = Dog()\n",
        "\n",
        "dog_obj.speak()\n"
      ]
    },
    {
      "cell_type": "markdown",
      "source": [
        "Write a program to create an abstract class Shape with a method area(). Derive classes Circle and Rectangle from it and implement the area() method in both."
      ],
      "metadata": {
        "id": "V19WOrJAi7aw"
      }
    },
    {
      "cell_type": "code",
      "source": [
        "from abc import ABC, abstractmethod\n",
        "import math\n",
        "\n",
        "# Abstract class\n",
        "class Shape(ABC):\n",
        "    @abstractmethod\n",
        "    def area(self):\n",
        "        pass\n",
        "\n",
        "# Derived class: Circle\n",
        "class Circle(Shape):\n",
        "    def __init__(self, radius):\n",
        "        self.radius = radius\n",
        "\n",
        "    def area(self):\n",
        "        return math.pi * self.radius ** 2\n",
        "\n",
        "# Derived class: Rectangle\n",
        "class Rectangle(Shape):\n",
        "    def __init__(self, length, width):\n",
        "        self.length = length\n",
        "        self.width = width\n",
        "\n",
        "    def area(self):\n",
        "        return self.length * self.width\n",
        "\n",
        "# Test the classes\n",
        "circle = Circle(5)\n",
        "rectangle = Rectangle(14, 6)\n",
        "\n",
        "print(f\"Area of circle: {circle.area():.2f}\")\n",
        "print(f\"Area of rectangle: {rectangle.area():.2f}\")"
      ],
      "metadata": {
        "colab": {
          "base_uri": "https://localhost:8080/"
        },
        "id": "jB_nZFlzi-Ih",
        "outputId": "593caf53-3369-49d8-cadf-f43489f40eef"
      },
      "execution_count": null,
      "outputs": [
        {
          "output_type": "stream",
          "name": "stdout",
          "text": [
            "Area of circle: 78.54\n",
            "Area of rectangle: 84.00\n"
          ]
        }
      ]
    },
    {
      "cell_type": "markdown",
      "source": [
        "3. Implement a multi-level inheritance scenario where a class Vehicle has an attribute type. Derive a class Car\n",
        "and further derive a class ElectricCar that adds a battery attribute."
      ],
      "metadata": {
        "id": "_sljqsp3mW-h"
      }
    },
    {
      "cell_type": "code",
      "source": [
        "class Vehicle:\n",
        "  def __init__(self,vehicle_type):\n",
        "    self.vehicle_type = vehicle_type\n",
        "\n",
        "  def disp_info(self):\n",
        "    print(f\"Type: {self.vehicle_type}\")\n",
        "\n",
        "class Car(Vehicle):\n",
        "  def __init__(self,vehicle_type,brand):\n",
        "    super().__init__(vehicle_type)\n",
        "    self.brand = brand\n",
        "\n",
        "  def disp_info(self):\n",
        "    super().disp_info()\n",
        "    print(f\"Brand: {self.brand}\")\n",
        "\n",
        "class ElectricCar(Car):\n",
        "  def __init__(self,vehicle_type,brand,battery):\n",
        "    super().__init__(vehicle_type,brand)\n",
        "    self.battery = battery\n",
        "\n",
        "  def disp_info(self):\n",
        "    super().disp_info()\n",
        "    print(f\"Battery Capacity: {self.battery} kWh\")\n",
        "\n",
        "car_obj = ElectricCar(\"Electric\", \"Tesla\",100)\n",
        "car_obj.disp_info()\n"
      ],
      "metadata": {
        "id": "ckRKhRAamYBU",
        "colab": {
          "base_uri": "https://localhost:8080/"
        },
        "outputId": "585ec2e8-110d-4573-e432-af975e43af9e"
      },
      "execution_count": 1,
      "outputs": [
        {
          "output_type": "stream",
          "name": "stdout",
          "text": [
            "Type: Electric\n",
            "Brand: Tesla\n",
            "Battery Capacity: 100 kWh\n"
          ]
        }
      ]
    },
    {
      "cell_type": "markdown",
      "source": [
        "4. Demonstrate polymorphism by creating a base class Bird with a method fly(). Create two derived classes\n",
        "Sparrow and Penguin that override the fly() method.\n"
      ],
      "metadata": {
        "id": "0EuzCw4VmYeD"
      }
    },
    {
      "cell_type": "code",
      "source": [
        "class Bird:\n",
        "  def fly(self):\n",
        "    print(\"Birds can fly\")\n",
        "\n",
        "class Sparrow(Bird):\n",
        "  def fly(self):\n",
        "    print(\"Sparrows can fly\")\n",
        "\n",
        "class Penguin(Bird):\n",
        "  def fly(self):\n",
        "    print(\"Penguins cannot fly\")\n",
        "\n",
        "bird_obj = Bird()\n",
        "sparrow_obj = Sparrow()\n",
        "penguin_obj = Penguin()\n",
        "\n",
        "bird_obj.fly()\n",
        "sparrow_obj.fly()\n",
        "penguin_obj.fly()\n",
        "\n"
      ],
      "metadata": {
        "id": "xrvGF-LLmdV6",
        "colab": {
          "base_uri": "https://localhost:8080/"
        },
        "outputId": "7bd93b69-b0e7-4bea-e934-aaeb34552641"
      },
      "execution_count": 3,
      "outputs": [
        {
          "output_type": "stream",
          "name": "stdout",
          "text": [
            "Birds can fly\n",
            "Sparrows can fly\n",
            "Penguins cannot fly\n"
          ]
        }
      ]
    },
    {
      "cell_type": "markdown",
      "source": [
        "5. Write a program to demonstrate encapsulation by creating a class BankAccount with private attributes\n",
        "balance and methods to deposit, withdraw, and check balance.\n"
      ],
      "metadata": {
        "id": "2FEG-GP7mdw1"
      }
    },
    {
      "cell_type": "code",
      "source": [
        "class BankAccount:\n",
        "  def __init__(self,balance):\n",
        "    self.balance = balance\n",
        "    print(f\"Initial Balance: {self.balance}\")\n",
        "\n",
        "  def deposit(self,amount):\n",
        "    self.balance += amount\n",
        "    print(f\"Deposited: {amount}\")\n",
        "    print(f\"Current Balance: {self.balance}\")\n",
        "\n",
        "  def withdraw(self,amount):\n",
        "    if amount <= self.balance:\n",
        "      self.balance -= amount\n",
        "      print(f\"Withdrawn: {amount}\")\n",
        "      print(f\"Current Balance: {self.balance}\")\n",
        "    else:\n",
        "      print(\"Insufficient funds\")\n",
        "\n",
        "  def check_balance(self):\n",
        "    print(f\"Current Balance: {self.balance}\")\n",
        "\n",
        "account = BankAccount(1000)\n",
        "account.deposit(500)\n",
        "account.withdraw(200)\n",
        "account.check_balance()"
      ],
      "metadata": {
        "id": "d7BUmAKLmhwt",
        "colab": {
          "base_uri": "https://localhost:8080/"
        },
        "outputId": "66f7eede-ab1e-437e-c8bb-59edfd2090d2"
      },
      "execution_count": 5,
      "outputs": [
        {
          "output_type": "stream",
          "name": "stdout",
          "text": [
            "Initial Balance: 1000\n",
            "Deposited: 500\n",
            "Current Balance: 1500\n",
            "Withdrawn: 200\n",
            "Current Balance: 1300\n",
            "Current Balance: 1300\n"
          ]
        }
      ]
    },
    {
      "cell_type": "markdown",
      "source": [
        "6. Demonstrate runtime polymorphism using a method play() in a base class Instrument. Derive classes Guitar\n",
        "and Piano that implement their own version of play().\n"
      ],
      "metadata": {
        "id": "TxbeHL43miLA"
      }
    },
    {
      "cell_type": "code",
      "source": [
        "class Instrument:\n",
        "  def play(self):\n",
        "    print(\"Instrument is playing\")\n",
        "\n",
        "class Guitar(Instrument):\n",
        "  def play(self):\n",
        "    print(\"Guitar is playing\")\n",
        "\n",
        "class Piano(Instrument):\n",
        "  def play(self):\n",
        "    print(\"Piano is playing\")\n",
        "\n",
        "\n",
        "guitar = Guitar()\n",
        "piano = Piano()\n",
        "\n",
        "guitar.play()\n",
        "piano.play()\n"
      ],
      "metadata": {
        "id": "ky9WNUX7mmNc",
        "colab": {
          "base_uri": "https://localhost:8080/"
        },
        "outputId": "e49206f5-ed2a-47a0-e4c3-a921c34029f4"
      },
      "execution_count": 6,
      "outputs": [
        {
          "output_type": "stream",
          "name": "stdout",
          "text": [
            "Guitar is playing\n",
            "Piano is playing\n"
          ]
        }
      ]
    },
    {
      "cell_type": "markdown",
      "source": [
        "7. Create a class MathOperations with a class method add_numbers() to add two numbers and a static\n",
        "method subtract_numbers() to subtract two numbers."
      ],
      "metadata": {
        "id": "hKmc7ha0mmor"
      }
    },
    {
      "cell_type": "code",
      "source": [
        "class MathOperations:\n",
        "  @classmethod\n",
        "  def add_numbers(cls,a,b):\n",
        "    return a+b\n",
        "\n",
        "  @staticmethod\n",
        "  def subtract_numbers(a,b):\n",
        "    return a-b\n",
        "\n",
        "print(MathOperations.add_numbers(10,20))\n",
        "print(MathOperations.subtract_numbers(10,20))"
      ],
      "metadata": {
        "id": "vUHjB9_zmq3V"
      },
      "execution_count": null,
      "outputs": []
    },
    {
      "cell_type": "markdown",
      "source": [
        "8. Implement a class Person with a class method to count the total number of persons created."
      ],
      "metadata": {
        "id": "91icQSUAmrPM"
      }
    },
    {
      "cell_type": "code",
      "source": [
        "class Person:\n",
        "  count = 0\n",
        "\n",
        "  def __init__(self,name,age):\n",
        "    self.name = name\n",
        "    self.age = age\n",
        "    Person.count += 1\n",
        "\n",
        "  @classmethod\n",
        "  def get_count(cls):\n",
        "    return cls.count\n",
        "\n",
        "\n",
        "person1 = Person(\"John\",30)\n",
        "person2 = Person(\"Jane\",25)\n",
        "\n",
        "print(Person.get_count())"
      ],
      "metadata": {
        "id": "ivP8AmaDmvaH",
        "colab": {
          "base_uri": "https://localhost:8080/"
        },
        "outputId": "88411177-cc40-4e49-bd1d-53c5ff7f1d64"
      },
      "execution_count": 7,
      "outputs": [
        {
          "output_type": "stream",
          "name": "stdout",
          "text": [
            "2\n"
          ]
        }
      ]
    },
    {
      "cell_type": "markdown",
      "source": [
        "9. Write a class Fraction with attributes numerator and denominator. Override the str method to display the\n",
        "fraction as \"numerator/denominator\"."
      ],
      "metadata": {
        "id": "U5LKuPMJmv4I"
      }
    },
    {
      "cell_type": "code",
      "source": [
        "class Fraction:\n",
        "  def __init__(self,numerator,denominator):\n",
        "    self.numerator = numerator\n",
        "    self.denominator = denominator\n",
        "\n",
        "  def __str__(self):\n",
        "    return f\"{self.numerator}/{self.denominator}\"\n",
        "\n",
        "fraction = Fraction(3,4)\n",
        "print(fraction)\n",
        "\n"
      ],
      "metadata": {
        "id": "jMoenL20m1Vu",
        "colab": {
          "base_uri": "https://localhost:8080/"
        },
        "outputId": "1265bff4-6e56-4ce3-e54c-483fe178dc5c"
      },
      "execution_count": 9,
      "outputs": [
        {
          "output_type": "stream",
          "name": "stdout",
          "text": [
            "3/4\n"
          ]
        }
      ]
    },
    {
      "cell_type": "markdown",
      "source": [
        "10. Demonstrate operator overloading by creating a class Vector and overriding the add method to add two\n",
        "vectors."
      ],
      "metadata": {
        "id": "z6en7shhm1zW"
      }
    },
    {
      "cell_type": "code",
      "source": [
        "class Vector:\n",
        "  def __init__(self,x,y):\n",
        "    self.x = x\n",
        "    self.y = y\n",
        "\n",
        "  def __add__(self,other):\n",
        "    return Vector(self.x + other.x, self.y + other.y)\n",
        "\n",
        "  def __str__(self):\n",
        "    return f\"({self.x},{self.y})\"\n",
        "\n",
        "v1 = Vector(1,2)\n",
        "v2 = Vector(3,4)\n",
        "\n",
        "v3 = v1 + v2\n",
        "print(v3)"
      ],
      "metadata": {
        "id": "FR5-fIucm51H"
      },
      "execution_count": null,
      "outputs": []
    },
    {
      "cell_type": "markdown",
      "source": [
        "11. Create a class Person with attributes name and age. Add a method greet() that prints \"Hello, my name is\n",
        "{name} and I am {age} years old.\""
      ],
      "metadata": {
        "id": "0BczXS1om6kO"
      }
    },
    {
      "cell_type": "code",
      "source": [
        "class Person:\n",
        "  def __init__(self,name,age):\n",
        "    self.name = name\n",
        "    self.age = age\n",
        "\n",
        "  def greet(self):\n",
        "    print(f\"Hello, my name is {self.name} and I am {self.age} years old.\")\n",
        "\n",
        "person = Person(\"John\",30)\n",
        "person.greet()"
      ],
      "metadata": {
        "id": "3Vr04ybTm_Ci",
        "colab": {
          "base_uri": "https://localhost:8080/"
        },
        "outputId": "f8eae1d9-f5bd-4707-9982-dd62bf0679b6"
      },
      "execution_count": 22,
      "outputs": [
        {
          "output_type": "stream",
          "name": "stdout",
          "text": [
            "Hello, my name is John and I am 30 years old.\n"
          ]
        }
      ]
    },
    {
      "cell_type": "markdown",
      "source": [
        "12. Implement a class Student with attributes name and grades. Create a method average_grade() to compute\n",
        "the average of the grades.\n"
      ],
      "metadata": {
        "id": "1NWv2hPFm_jc"
      }
    },
    {
      "cell_type": "code",
      "source": [
        "class Student:\n",
        "  def __init__(self,name,grades):\n",
        "    self.name = name\n",
        "    self.grades = grades\n",
        "\n",
        "  def average_grade(self):\n",
        "    return sum(self.grades)/len(self.grades)\n",
        "\n",
        "student = Student(\"John\",[90,80,70,60])\n",
        "print(student.average_grade())"
      ],
      "metadata": {
        "id": "kEkqC0xMnENR",
        "colab": {
          "base_uri": "https://localhost:8080/"
        },
        "outputId": "e1bb527a-9fb0-451d-e439-7e62f5654ee8"
      },
      "execution_count": 21,
      "outputs": [
        {
          "output_type": "stream",
          "name": "stdout",
          "text": [
            "75.0\n"
          ]
        }
      ]
    },
    {
      "cell_type": "markdown",
      "source": [
        "13. Create a class Rectangle with methods set_dimensions() to set the dimensions and area() to calculate the\n",
        "area."
      ],
      "metadata": {
        "id": "Jx5ZlCbSnErV"
      }
    },
    {
      "cell_type": "code",
      "source": [
        "class Rectangle:\n",
        "  def __init__(self,length,width):\n",
        "    self.length = length\n",
        "    self.width = width\n",
        "\n",
        "  def set_dimensions(self,length,width):\n",
        "    self.length = length\n",
        "    self.width = width\n",
        "\n",
        "  def area(self):\n",
        "    return self.length * self.width\n",
        "\n",
        "rectangle = Rectangle(10,20)\n",
        "print(rectangle.area())\n",
        "rectangle.set_dimensions(20,30)\n",
        "print(rectangle.area())"
      ],
      "metadata": {
        "id": "ICuYtugLnI66",
        "colab": {
          "base_uri": "https://localhost:8080/"
        },
        "outputId": "6002adae-ab6c-4189-f4bc-c577fd943e39"
      },
      "execution_count": 20,
      "outputs": [
        {
          "output_type": "stream",
          "name": "stdout",
          "text": [
            "200\n",
            "600\n"
          ]
        }
      ]
    },
    {
      "cell_type": "markdown",
      "source": [
        "14. Create a class Employee with a method calculate_salary() that computes the salary based on hours worked\n",
        "and hourly rate. Create a derived class Manager that adds a bonus to the salary."
      ],
      "metadata": {
        "id": "YaueSwNXnJZh"
      }
    },
    {
      "cell_type": "code",
      "source": [
        "class Employee:\n",
        "  def __init__(self,name,hours_worked,hourly_rate):\n",
        "    self.name = name\n",
        "    self.hours_worked = hours_worked\n",
        "    self.hourly_rate = hourly_rate\n",
        "\n",
        "  def calculate_salary(self):\n",
        "    return self.hours_worked * self.hourly_rate\n",
        "\n",
        "  def __str__(self):\n",
        "    return f\"Name: {self.name}\\nHours Worked: {self.hours_worked}\\nHourly Rate: {self.hourly_rate}\"\n",
        "\n",
        "class Manager(Employee):\n",
        "  def __init__(self,name,hours_worked,hourly_rate,bonus):\n",
        "    super().__init__(name,hours_worked,hourly_rate)\n",
        "    self.bonus = bonus\n",
        "\n",
        "  def calculate_salary(self):\n",
        "    total_salary = super().calculate_salary() + self.bonus\n",
        "    return f\"Total Salary: {total_salary}\"\n",
        "\n",
        "manager = Manager(\"John\",40,50,1000)\n",
        "print(manager)\n",
        "print(manager.calculate_salary())\n",
        "\n",
        "\n",
        "\n",
        "\n"
      ],
      "metadata": {
        "colab": {
          "base_uri": "https://localhost:8080/"
        },
        "id": "Mz1P3qW7rAHq",
        "outputId": "7ca4a2e4-ad6d-4db2-ffdd-44c79c9dc648"
      },
      "execution_count": 19,
      "outputs": [
        {
          "output_type": "stream",
          "name": "stdout",
          "text": [
            "Name: John\n",
            "Hours Worked: 40\n",
            "Hourly Rate: 50\n",
            "Total Salary: 3000\n"
          ]
        }
      ]
    },
    {
      "cell_type": "code",
      "source": [],
      "metadata": {
        "id": "21ulaeVanO0f"
      },
      "execution_count": null,
      "outputs": []
    },
    {
      "cell_type": "markdown",
      "source": [
        "15. Create a class Product with attributes name, price, and quantity. Implement a method total_price() that\n",
        "calculates the total price of the product."
      ],
      "metadata": {
        "id": "K9Iu8XvInPNK"
      }
    },
    {
      "cell_type": "code",
      "source": [
        "class Product:\n",
        "  def __init__(self,name,price,quantity):\n",
        "    self.name = name\n",
        "    self.price = price\n",
        "    self.quantity = quantity\n",
        "\n",
        "  def total_price(self):\n",
        "    return self.price * self.quantity\n",
        "\n",
        "product = Product(\"Apple\",10,5)\n",
        "print(product.total_price())\n",
        "\n"
      ],
      "metadata": {
        "id": "tkQ3YERfnW-b",
        "colab": {
          "base_uri": "https://localhost:8080/"
        },
        "outputId": "bd951c41-2de2-475e-a318-e2b7be4d37cd"
      },
      "execution_count": 15,
      "outputs": [
        {
          "output_type": "stream",
          "name": "stdout",
          "text": [
            "50\n"
          ]
        }
      ]
    },
    {
      "cell_type": "markdown",
      "source": [
        "16. Create a class Animal with an abstract method sound(). Create two derived classes Cow and Sheep that\n",
        "implement the sound() method."
      ],
      "metadata": {
        "id": "CYvfj2kPnXZE"
      }
    },
    {
      "cell_type": "code",
      "source": [
        "from abc import ABC, abstractmethod\n",
        "# Abstract base class\n",
        "class Animal(ABC):\n",
        "    @abstractmethod\n",
        "    def sound(self):\n",
        "      pass\n",
        "# Concrete Cow class\n",
        "class Cow(Animal):\n",
        "    def sound(self):\n",
        "        return \"Moo!\"\n",
        "# Concrete Sheep class\n",
        "class Sheep(Animal):\n",
        "    def sound(self):\n",
        "        return \"Baa!\"\n",
        "if __name__ == \"__main__\":\n",
        "    # Create instances\n",
        "    daisy = Cow()\n",
        "    fluffy = Sheep()\n",
        "\n",
        "\n",
        "print(\"Cow says:\", daisy.sound())     # Output: Moo\n",
        "print(\"Sheep says:\", fluffy.sound()) # Output: Baa\n",
        "\n"
      ],
      "metadata": {
        "id": "b5K_vpUInejq",
        "colab": {
          "base_uri": "https://localhost:8080/"
        },
        "outputId": "917dbb3d-eb09-4501-c336-23294b6e42ce"
      },
      "execution_count": 14,
      "outputs": [
        {
          "output_type": "stream",
          "name": "stdout",
          "text": [
            "Cow says: Moo!\n",
            "Sheep says: Baa!\n"
          ]
        }
      ]
    },
    {
      "cell_type": "markdown",
      "source": [
        "17. Create a class Book with attributes title, author, and year_published. Add a method get_book_info() that\n",
        "returns a formatted string with the book's details."
      ],
      "metadata": {
        "id": "FUU4xmEvnfBT"
      }
    },
    {
      "cell_type": "code",
      "source": [
        "class Book:\n",
        "  def __init__(self,title,author,year_published):\n",
        "    self.title = title\n",
        "    self.author = author\n",
        "    self.year_published = year_published\n",
        "\n",
        "  def get_book_info(self):\n",
        "    return f\"Title: {self.title}\\nAuthor: {self.author}\\nYear Published: {self.year_published}\"\n",
        "\n",
        "book = Book(\"The Great Gatsby\",\"F. Scott Fitzgerald\",1925)\n",
        "print(book.get_book_info())"
      ],
      "metadata": {
        "id": "O_SBJ2SnniAc",
        "colab": {
          "base_uri": "https://localhost:8080/"
        },
        "outputId": "f90628cf-2ce6-4105-ed6e-3d9aca062634"
      },
      "execution_count": 12,
      "outputs": [
        {
          "output_type": "stream",
          "name": "stdout",
          "text": [
            "Title: The Great Gatsby\n",
            "Author: F. Scott Fitzgerald\n",
            "Year Published: 1925\n"
          ]
        }
      ]
    },
    {
      "cell_type": "markdown",
      "source": [
        "18. Create a class House with attributes address and price. Create a derived class Mansion that adds an\n",
        "attribute number_of_rooms"
      ],
      "metadata": {
        "id": "vztuoIh6niaC"
      }
    },
    {
      "cell_type": "code",
      "source": [
        "class House:\n",
        "  def __init__(self,address,price):\n",
        "    self.address = address\n",
        "    self.price = price\n",
        "\n",
        "  def get_house_info(self):\n",
        "    return f\"Address: {self.address}\\nPrice: {self.price}\"\n",
        "\n",
        "class Mansion(House):\n",
        "  def __init__(self,address,price,number_of_rooms):\n",
        "    super().__init__(address,price)\n",
        "    self.number_of_rooms = number_of_rooms\n",
        "\n",
        "  def get_house_info(self):\n",
        "    return f\"Address: {self.address}\\nPrice: {self.price}\\nNumber of Rooms: {self.number_of_rooms}\"\n",
        "\n",
        "mansion = Mansion(\"123 Main St\",100000,5)\n",
        "print(mansion.get_house_info())\n",
        "\n",
        "\n",
        "\n"
      ],
      "metadata": {
        "colab": {
          "base_uri": "https://localhost:8080/"
        },
        "id": "KG74fECWl00a",
        "outputId": "ed3042de-12c0-42e6-e5ba-75f8f2501551"
      },
      "execution_count": 11,
      "outputs": [
        {
          "output_type": "stream",
          "name": "stdout",
          "text": [
            "Address: 123 Main St\n",
            "Price: 100000\n",
            "Number of Rooms: 5\n"
          ]
        }
      ]
    },
    {
      "cell_type": "code",
      "source": [],
      "metadata": {
        "id": "ECfJqdadl0YG"
      },
      "execution_count": null,
      "outputs": []
    }
  ]
}