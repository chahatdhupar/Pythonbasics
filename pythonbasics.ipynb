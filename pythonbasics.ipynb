{
  "nbformat": 4,
  "nbformat_minor": 0,
  "metadata": {
    "colab": {
      "provenance": []
    },
    "kernelspec": {
      "name": "python3",
      "display_name": "Python 3"
    },
    "language_info": {
      "name": "python"
    }
  },
  "cells": [
    {
      "cell_type": "markdown",
      "source": [
        "# Python basics"
      ],
      "metadata": {
        "id": "b4-HKlzpnCzn"
      }
    },
    {
      "cell_type": "markdown",
      "source": [
        "1. What is Python, and why is it popular\n",
        "\n",
        "  ->Python is the programming language popularly known for its versatility.Python's popularity stems from its simplicity, versatility, and extensive library ecosystem.\n",
        "  It is useful in various fields like data science, web development, machine learning because of its readablitiy and ease of use.\n",
        "\n",
        "2. What is an interpreter in Python\n",
        "\n",
        "  ->Python is an interpreted language, it relies on an interpreter to translate and execute the code. An interpreter in python is the computer program that reads each line of python code,executes it, performs the necessary operations, and moves on to the next line. It doesn't translate the entire code into machine code at once.\n",
        "\n",
        "3. What are pre-defined keywords in Python\n",
        "\n",
        "  ->Kerwords are the reserved words used in programming language with specific meanings to the compiler.They are the fundamental building blocks of python syntax.\n",
        "\n",
        "4. Can keywords be used as variable names\n",
        "\n",
        "  -> No, we can't use keywords as variable name.\n",
        "\n",
        "5. What is mutability in Python\n",
        "\n",
        "  -> Mutabilty is the ability to change/modify after its creation. Mutable objects are those whose state/value can be changed after they are created.\n",
        "\n",
        "6. Why are lists mutable, but tuples are immutable\n",
        "\n",
        "  -> Lists in python are dynamic and flexible. They are mutable as thier content can be modified after creations. We can perform the operations like - append, insert, pop, etc which eventually results in modification of original data when the list was created.\n",
        "\n",
        "  On the other hand, tuples are designed for the fixed data. They are immutable as their contents cannot be changed after creation. Once a tuple is defined, its elements cannot be added, removed, or modified.\n",
        "\n",
        "7. What is the difference between “==” and “is” operators in Python\n",
        "\n",
        "  -> \"==\" Compares the values of objects.It returns True if the objects have the same value/content\n",
        "  \"is\" Compares memory addresses (object identity). It returns True only if both variables point to the exact same object\n",
        "\n",
        "  \"is\" is faster as it just compares memory addresses\n",
        "\n",
        "8. What are logical operators in Python\n",
        "\n",
        "  -> Logical operators are used to combine conditional statements and perform logical operations on Boolean values. Python has three main logical operators:\n",
        "\n",
        "  1. and\n",
        "\n",
        "  Returns True if both operands are true\n",
        "\n",
        "  Evaluates to the first falsy value if any, otherwise the last truthy value\n",
        "\n",
        "  Stops evaluating if first operand is falsy\n",
        "\n",
        "  2. or\n",
        "\n",
        "  Returns True if at least one operand is true\n",
        "\n",
        "  Evaluates to the first truthy value if any, otherwise the last falsy value\n",
        "\n",
        "  Stops evaluating if first operand is truthy\n",
        "\n",
        "  3. not\n",
        "\n",
        "  Returns True if the operand is false, and vice versa\n",
        "\n",
        "  Only takes one operand\n",
        "\n",
        "  Always returns a Boolean value (True or False)\n",
        "\n",
        "9. What is type casting in Python\n",
        "\n",
        "  -> Type casting in Python is the process of converting a variable from one data type to another. It allows you to change the type of a value so that it can be used in a different context or operation. Python provides several built-in functions to perform type casting.\n",
        "  It is done using functions like int(), float(), str(), etc.\n",
        "  example\n",
        "      x = float(5)      # x is 5.0\n",
        "      y = float(\"3.14\")  # y is 3.14\n",
        "    \n",
        "\n",
        "10. What is the difference between implicit and explicit type casting\n",
        "\n",
        "  ->Implicit type casting is an automatic conversion performed by Python interpreter. Occurs when mixing different numeric types in operations\n",
        "  example:\n",
        "  # Integer + Float → Float\n",
        "  x = 5    # int\n",
        "  y = 2.5  # float\n",
        "  result = x + y  # 7.5 (float)\n",
        "\n",
        "  # Integer + Boolean → Integer\n",
        "  a = 10   # int\n",
        "  b = True # bool (equivalent to 1)\n",
        "  sum = a + b  # 11 (int)\n",
        "\n",
        "  Explicit type casting is a manual conversion specified by the programmer.Done using constructor functions like int(), float(), str(), etc.\n",
        "\n",
        "  # String to Integer\n",
        "  num_str = \"123\"\n",
        "  num_int = int(num_str)  # 123 (int)\n",
        "\n",
        "11. What is the purpose of conditional statements in Python\n",
        "\n",
        "  -> Conditional statements are fundamental programming constructs that allow your code to make decisions and execute different actions based on specific conditions. The purpose of conditional statements in Python is to control the flow of a program by executing code only if a certain condition is true.\n",
        "\n",
        "  1. if Statement\n",
        "  The basic conditional that executes code when a condition is true\n",
        "  \n",
        "  if condition:\n",
        "      # executes when condition is True\n",
        "  2. if-else Statement\n",
        "  Provides an alternative path when the condition is false\n",
        "\n",
        "  if condition:\n",
        "      # executes when True\n",
        "  else:\n",
        "      # executes when False\n",
        "  3. if-elif-else Statement\n",
        "  Handles multiple exclusive conditions\n",
        "\n",
        "  if condition1:\n",
        "      # case 1\n",
        "  elif condition2:\n",
        "      # case 2\n",
        "  else:\n",
        "      # default case\n",
        "  4. Ternary Operator\n",
        "  Compact conditional expression\n",
        "   value_if_true if condition else value_if_false\n",
        "\n",
        "12. How does the elif statement work\n",
        "\n",
        "  ->  Python checks each condition from top to bottom\n",
        "      The first condition that evaluates to True executes its corresponding block\n",
        "      All subsequent elif and else blocks are skipped\n",
        "      Example:\n",
        "\n",
        "      grade = 85\n",
        "\n",
        "      if grade >= 90:\n",
        "          print(\"A\")\n",
        "      elif grade >= 80:  # Only checked if first condition was False\n",
        "          print(\"B\")     # This will execute (85 >= 80)\n",
        "      elif grade >= 70:  # Not checked because previous elif was True\n",
        "          print(\"C\")\n",
        "      else:\n",
        "          print(\"F\")\n",
        "\n",
        "\n",
        "13. What is the difference between for and while loops\n",
        "\n",
        "  -> 1. While is used when the number of iterations are unknown whereas for loop is used when the number of iterations are known\n",
        "    2. While loop repeats until the condition is true where as foor loop iteration over a list or range\n",
        "    3. in while loop we have to update the condition manually whereas for loop Automatically handle iteration over sequences\n",
        "\n",
        "14. Describe a scenario where a while loop is more suitable than a for loop.\n",
        "\n",
        "  -> A while loop is more suitable when the number of iterations is not known in advance and also depends on a condition being met.\n",
        "   Example\n",
        "\n",
        "  user_input = \"demo\"\n",
        "  while user_input != \"exit\":\n",
        "      user_input = input(\"Enter something (type 'exit' to quit): \")\n",
        "\n",
        "  In this scenerio for loop is not suitable as we don’t know how many times the user will input data — the loop continues based on a condition, not a fixed range.\n",
        "\n",
        "\n",
        "\n",
        "\n",
        "\n"
      ],
      "metadata": {
        "id": "4E6U3Z8Pnc-k"
      }
    },
    {
      "cell_type": "markdown",
      "source": [
        "1. Write a Python program to print \"Hello, World!"
      ],
      "metadata": {
        "id": "20-FQ3nM6t48"
      }
    },
    {
      "cell_type": "code",
      "source": [
        "print(\"Hello, World!\")"
      ],
      "metadata": {
        "colab": {
          "base_uri": "https://localhost:8080/"
        },
        "id": "RBuJ79yj6716",
        "outputId": "716b6422-f320-4497-ce95-70bcb5cc39d5"
      },
      "execution_count": null,
      "outputs": [
        {
          "output_type": "stream",
          "name": "stdout",
          "text": [
            "Hello, World!\n"
          ]
        }
      ]
    },
    {
      "cell_type": "markdown",
      "source": [
        "2. Write a Python program that displays your name and age"
      ],
      "metadata": {
        "id": "lGjpGkcP7N2Y"
      }
    },
    {
      "cell_type": "code",
      "execution_count": null,
      "metadata": {
        "colab": {
          "base_uri": "https://localhost:8080/"
        },
        "id": "uTLkCHb0m0cw",
        "outputId": "7288d57d-f9ac-4e8e-bb08-38dbddf8b87e"
      },
      "outputs": [
        {
          "output_type": "stream",
          "name": "stdout",
          "text": [
            "Enter your nameabc\n",
            "Enter your age20\n",
            "My name is:  abc\n",
            "My age is:  20\n"
          ]
        }
      ],
      "source": [
        "name = input(\"Enter your name\")\n",
        "age = input(\"Enter your age\")\n",
        "print(\"My name is: \",name)\n",
        "print(\"My age is: \",age)"
      ]
    },
    {
      "cell_type": "markdown",
      "source": [
        "3. Write code to print all the pre-defined keywords in Python using the keyword library"
      ],
      "metadata": {
        "id": "Ry5sAibs76ie"
      }
    },
    {
      "cell_type": "code",
      "source": [
        "import keyword\n",
        "\n",
        "print(keyword.kwlist)"
      ],
      "metadata": {
        "colab": {
          "base_uri": "https://localhost:8080/"
        },
        "id": "yJ2jEkU28L5k",
        "outputId": "625fd9b6-f975-4791-9686-76856a61393d"
      },
      "execution_count": null,
      "outputs": [
        {
          "output_type": "stream",
          "name": "stdout",
          "text": [
            "['False', 'None', 'True', 'and', 'as', 'assert', 'async', 'await', 'break', 'class', 'continue', 'def', 'del', 'elif', 'else', 'except', 'finally', 'for', 'from', 'global', 'if', 'import', 'in', 'is', 'lambda', 'nonlocal', 'not', 'or', 'pass', 'raise', 'return', 'try', 'while', 'with', 'yield']\n"
          ]
        }
      ]
    },
    {
      "cell_type": "markdown",
      "source": [
        "4.Write a program that checks if a given word is a Python keyword."
      ],
      "metadata": {
        "id": "LjXx4p1-85sV"
      }
    },
    {
      "cell_type": "code",
      "source": [
        "import keyword\n",
        "\n",
        "def check_keyword(word):\n",
        "   return keyword.iskeyword(word)\n",
        "\n",
        "word1 = \"and\"\n",
        "word2 = \"test\"\n",
        "\n",
        "print(f\"'{word1}' is a keyword: {check_keyword(word1)}\")\n",
        "print(f\"'{word2}' is a keyword: {check_keyword(word2)}\")"
      ],
      "metadata": {
        "colab": {
          "base_uri": "https://localhost:8080/"
        },
        "id": "ckjlyvB887tI",
        "outputId": "5696624e-22ff-43c3-e6ed-9c26be713f6d"
      },
      "execution_count": null,
      "outputs": [
        {
          "output_type": "stream",
          "name": "stdout",
          "text": [
            "'and' is a keyword: True\n",
            "'test' is a keyword: False\n"
          ]
        }
      ]
    },
    {
      "cell_type": "markdown",
      "source": [
        "5.  Create a list and tuple in Python, and demonstrate how attempting to change an element works differently for each"
      ],
      "metadata": {
        "id": "KBUhZQBM89Xy"
      }
    },
    {
      "cell_type": "code",
      "source": [
        "lst1 = [1,10,'hello',0.8,'Z']\n",
        "tup1 = (1,10,20,30,'world')\n",
        "\n",
        "print(\"List: \", lst1)\n",
        "print(\"tuple: \", tup1)\n",
        "\n",
        "lst1[1] = 100\n",
        "# if we try to change the element in the tuple, it gives us error (since tuple is immutable)\n",
        "# tup1[1] = 100\n",
        "\n",
        "print(\"Final List: \", lst1)\n",
        "print(\"Final tuple: \", tup1)\n"
      ],
      "metadata": {
        "colab": {
          "base_uri": "https://localhost:8080/"
        },
        "id": "1-peP9Eo9HEM",
        "outputId": "22f2c0b9-5e53-4e50-f03c-7694d4f88967"
      },
      "execution_count": null,
      "outputs": [
        {
          "output_type": "stream",
          "name": "stdout",
          "text": [
            "List:  [1, 10, 'hello', 0.8, 'Z']\n",
            "tuple:  (1, 10, 20, 30, 'world')\n",
            "Final List:  [1, 100, 'hello', 0.8, 'Z']\n",
            "Final tuple:  (1, 10, 20, 30, 'world')\n"
          ]
        }
      ]
    },
    {
      "cell_type": "markdown",
      "source": [
        "6.  Write a function to demonstrate the behavior of mutable and immutable arguments."
      ],
      "metadata": {
        "id": "SRV09z8v9HnS"
      }
    },
    {
      "cell_type": "code",
      "source": [
        " # Immutable argument (integer)\n",
        "def modify_immutable(x):\n",
        "    print(f\"Original immutable value: {x}\")\n",
        "    x += 1\n",
        "    print(f\"Modified immutable value: {x}\")\n",
        "# Mutable argument (list)\n",
        "def modify_mutable(lst):\n",
        "    print(f\"Original mutable list: {lst}\")\n",
        "    lst.append(4)  # This modifies the list in place\n",
        "    print(f\"Modified mutable list: {lst}\")\n",
        "# Testing immutable argument\n",
        "num = 10\n",
        "print(\"Testing immutable argument:\")\n",
        "modify_immutable(num)\n",
        "print(f\"Value after function call (immutable): {num}\\n\")  # num remains unchanged\n",
        "# Testing mutable argument\n",
        "my_list = [1, 2, 3]\n",
        "print(\"Testing mutable argument:\")\n",
        "modify_mutable(my_list)\n",
        "print(f\"Value after function call (mutable): {my_list}\")  # my_list is changed\n"
      ],
      "metadata": {
        "id": "GseQdPsK9Oaw",
        "colab": {
          "base_uri": "https://localhost:8080/"
        },
        "outputId": "0656e866-af8c-4d41-bb8b-dd89ec03c6cb"
      },
      "execution_count": 37,
      "outputs": [
        {
          "output_type": "stream",
          "name": "stdout",
          "text": [
            "Testing immutable argument:\n",
            "Original immutable value: 10\n",
            "Modified immutable value: 11\n",
            "Value after function call (immutable): 10\n",
            "\n",
            "Testing mutable argument:\n",
            "Original mutable list: [1, 2, 3]\n",
            "Modified mutable list: [1, 2, 3, 4]\n",
            "Value after function call (mutable): [1, 2, 3, 4]\n"
          ]
        }
      ]
    },
    {
      "cell_type": "markdown",
      "source": [
        "7. Write a program that performs basic arithmetic operations on two user-input numbers."
      ],
      "metadata": {
        "id": "8ePtGqe79PA0"
      }
    },
    {
      "cell_type": "code",
      "source": [
        "num1 = float(input(\"Enter First Number: \"))\n",
        "num2 = float(input(\"Enter Second Number: \"))\n",
        "\n",
        "print(\"The sum of two numbers is \", num1+num2)\n",
        "print(\"The difference between two numbers is \", num1-num2)\n",
        "print(\"The multiplication of two numbers is \", num1*num2)\n",
        "print(\"The division of two numbers is \", num1/num2)\n"
      ],
      "metadata": {
        "colab": {
          "base_uri": "https://localhost:8080/"
        },
        "id": "ICI4lbdu880M",
        "outputId": "dc8a9850-3b34-4ff1-afa3-7228d1eac011"
      },
      "execution_count": null,
      "outputs": [
        {
          "output_type": "stream",
          "name": "stdout",
          "text": [
            "Enter First Number: 12\n",
            "Enter Second Number: 2435\n",
            "The sum of two numbers is  2447.0\n",
            "The difference between two numbers is  -2423.0\n",
            "The multiplication of two numbers is  29220.0\n",
            "The division of two numbers is  0.004928131416837783\n"
          ]
        }
      ]
    },
    {
      "cell_type": "markdown",
      "source": [
        "8.  Write a program to demonstrate the use of logical operators"
      ],
      "metadata": {
        "id": "KSXyFMRD9h5b"
      }
    },
    {
      "cell_type": "code",
      "source": [
        "# (and) operator\n",
        "print(\"Logical AND:\")\n",
        "x = 20\n",
        "print(x > 3 and x < 40) # True because both conditions are true\n",
        "print(x < 3 and x > 10) # False because the first condition is false\n",
        "\n",
        "# (or) operator\n",
        "print(\"\\nLogical OR:\")\n",
        "print(x > 10 or x < 5) # True because the first condition is true\n",
        "print(x < 10 or x < 5) # False because both conditions are false\n",
        "\n",
        "# (not) operator\n",
        "print(\"\\nLogical NOT:\")\n",
        "y = False\n",
        "print(not y) # True because it negates the boolean value\n",
        "print(not (x > 10)) # False because x > 10 is true"
      ],
      "metadata": {
        "id": "z3Geo7rS9hJt",
        "colab": {
          "base_uri": "https://localhost:8080/"
        },
        "outputId": "9ced2216-2440-400e-80fc-ff89b93c0f42"
      },
      "execution_count": null,
      "outputs": [
        {
          "output_type": "stream",
          "name": "stdout",
          "text": [
            "Logical AND:\n",
            "True\n",
            "False\n",
            "\n",
            "Logical OR:\n",
            "True\n",
            "False\n",
            "\n",
            "Logical NOT:\n",
            "True\n",
            "False\n"
          ]
        }
      ]
    },
    {
      "cell_type": "markdown",
      "source": [
        "9.  Write a Python program to convert user input from string to integer, float, and boolean types\n",
        "\n",
        "---\n",
        "\n"
      ],
      "metadata": {
        "id": "FYHRYrl195oi"
      }
    },
    {
      "cell_type": "code",
      "source": [
        "value = input(\"Please enter any value: \")\n",
        "print(\"The interger value is \", int(value))\n",
        "print(\"The interger value is \", float(value))\n",
        "print(\"The interger value is \", bool(value))"
      ],
      "metadata": {
        "id": "GUt91R2B99vj",
        "colab": {
          "base_uri": "https://localhost:8080/"
        },
        "outputId": "e0063001-d56b-47fa-cc3d-8899733efd2f"
      },
      "execution_count": 31,
      "outputs": [
        {
          "output_type": "stream",
          "name": "stdout",
          "text": [
            "Please enter any value: -8\n",
            "The interger value is  -8\n",
            "The interger value is  -8.0\n",
            "The interger value is  True\n"
          ]
        }
      ]
    },
    {
      "cell_type": "markdown",
      "source": [
        "10. . Write code to demonstrate type casting with list elements."
      ],
      "metadata": {
        "id": "79wqD0Ev9-P9"
      }
    },
    {
      "cell_type": "code",
      "source": [
        "a = [1 , 2, 3, 4, 5, 6, 78, 100]\n",
        "b = [[5, 6, 8], [8, 5, 3], [9, 10, 3]]\n",
        "\n",
        "c = list(map(float, a))\n",
        "d = [list(map(str, sub)) for sub in b]\n",
        "\n",
        "print(c)\n",
        "print(d)"
      ],
      "metadata": {
        "id": "OFBKOlfc-CFV",
        "colab": {
          "base_uri": "https://localhost:8080/"
        },
        "outputId": "d9dd7132-69b5-41e6-8730-4112a595a8ec"
      },
      "execution_count": 32,
      "outputs": [
        {
          "output_type": "stream",
          "name": "stdout",
          "text": [
            "[1.0, 2.0, 3.0, 4.0, 5.0, 6.0, 78.0, 100.0]\n",
            "[['5', '6', '8'], ['8', '5', '3'], ['9', '10', '3']]\n"
          ]
        }
      ]
    },
    {
      "cell_type": "markdown",
      "source": [
        "11. Write a program that checks if a number is positive, negative, or zero."
      ],
      "metadata": {
        "id": "uSEUsb5J-DO-"
      }
    },
    {
      "cell_type": "code",
      "source": [
        "num = float(input(\"Enter the number: \"))\n",
        "if num > 0:\n",
        "  print(\"The number is positive\")\n",
        "elif num < 0:\n",
        "  print(\"The number is negative\")\n",
        "else:\n",
        "  print(\"The number is Zero\")"
      ],
      "metadata": {
        "id": "CBEWwbMQ-HTo",
        "colab": {
          "base_uri": "https://localhost:8080/"
        },
        "outputId": "7c4cd66d-0deb-4edd-9eaf-aa5bf2632c04"
      },
      "execution_count": null,
      "outputs": [
        {
          "output_type": "stream",
          "name": "stdout",
          "text": [
            "Enter the number: 12\n",
            "The number is positive\n"
          ]
        }
      ]
    },
    {
      "cell_type": "markdown",
      "source": [
        "12. Write a for loop to print numbers from 1 to 10."
      ],
      "metadata": {
        "id": "u_AAgXn0-IOz"
      }
    },
    {
      "cell_type": "code",
      "source": [
        "for val in range(1,11):\n",
        "  print(val)"
      ],
      "metadata": {
        "colab": {
          "base_uri": "https://localhost:8080/"
        },
        "id": "UMd6t3Rc-MHv",
        "outputId": "9524c179-55bb-4607-90fd-0a8bb8229ab8"
      },
      "execution_count": null,
      "outputs": [
        {
          "output_type": "stream",
          "name": "stdout",
          "text": [
            "1\n",
            "2\n",
            "3\n",
            "4\n",
            "5\n",
            "6\n",
            "7\n",
            "8\n",
            "9\n",
            "10\n"
          ]
        }
      ]
    },
    {
      "cell_type": "markdown",
      "source": [
        "13.  Write a Python program to find the sum of all even numbers between 1 and 50."
      ],
      "metadata": {
        "id": "Nb3VHdE_-Mmu"
      }
    },
    {
      "cell_type": "code",
      "source": [
        "sum = 0\n",
        "for val in range(1,51):\n",
        "  if(val % 2 == 0):\n",
        "    sum += val\n",
        "\n",
        "print(\"The sum of all even numbers between 1 and 50 is \", sum)\n"
      ],
      "metadata": {
        "colab": {
          "base_uri": "https://localhost:8080/"
        },
        "id": "7oJJ4C15-T2o",
        "outputId": "f70dddbf-1649-41c7-85ad-b41ff80bd637"
      },
      "execution_count": null,
      "outputs": [
        {
          "output_type": "stream",
          "name": "stdout",
          "text": [
            "The sum of all even numbers between 1 and 50 is  650\n"
          ]
        }
      ]
    },
    {
      "cell_type": "markdown",
      "source": [
        "14.  Write a program to reverse a string using a while loop\n",
        "\n",
        "---\n",
        "\n"
      ],
      "metadata": {
        "id": "zDMFRoGy9oJ2"
      }
    },
    {
      "cell_type": "code",
      "source": [
        "name= str((input(\"Enter the name: \")))\n",
        "i = len(name) - 1\n",
        "\n",
        "while (i >= 0):\n",
        "    print(name[i], end = '')\n",
        "    i = i - 1"
      ],
      "metadata": {
        "colab": {
          "base_uri": "https://localhost:8080/"
        },
        "id": "NKcbp3pu-ZHq",
        "outputId": "2580928c-79b4-4bd2-8ec3-33f1eb35ae46"
      },
      "execution_count": null,
      "outputs": [
        {
          "output_type": "stream",
          "name": "stdout",
          "text": [
            "Enter the name: testing\n",
            "gnitset"
          ]
        }
      ]
    },
    {
      "cell_type": "markdown",
      "source": [
        "15. Write a Python program to calculate the factorial of a number provided by the user using a while loop."
      ],
      "metadata": {
        "id": "tO5WmtXN-USQ"
      }
    },
    {
      "cell_type": "code",
      "source": [
        "num = int(input(\"Enter the number: \"))\n",
        "\n",
        "i = 1\n",
        "fact = 1\n",
        "while (i <= num):\n",
        "  if(num > 0):\n",
        "    fact *= i\n",
        "    i += 1\n",
        "  elif(num < 0):\n",
        "    print(\"Please enter positive whole number.\")\n",
        "  elif(num == 0):\n",
        "   print(\"The factorial is 1\")\n",
        "\n",
        "\n",
        "print(f\"The factorial of {num} is {fact}\")\n",
        "\n"
      ],
      "metadata": {
        "colab": {
          "base_uri": "https://localhost:8080/"
        },
        "id": "hPrCT8A6-jPC",
        "outputId": "6397fcbb-b487-49e2-eed4-734b1f305137"
      },
      "execution_count": null,
      "outputs": [
        {
          "output_type": "stream",
          "name": "stdout",
          "text": [
            "Enter the number: 2\n",
            "The factorial of 2 is 2\n"
          ]
        }
      ]
    }
  ]
}