{
  "nbformat": 4,
  "nbformat_minor": 0,
  "metadata": {
    "colab": {
      "provenance": []
    },
    "kernelspec": {
      "name": "python3",
      "display_name": "Python 3"
    },
    "language_info": {
      "name": "python"
    }
  },
  "cells": [
    {
      "cell_type": "markdown",
      "source": [
        "1. What is the difference between interpreted and compiled languages?\n",
        "\n",
        "->A compiled language is a programming language that is generally compiled and not interpreted. It is one where the program, once compiled, is expressed in the instructions of the target machine; this machine code is undecipherable by humans. Types of compiled language - C, C++, C#, CLEO, COBOL, etc.\n",
        "\n",
        "An interpreted language is a programming language that is generally interpreted, without compiling a program into machine instructions. It is one where the instructions are not directly executed by the target machine, but instead, read and executed by some other program. Interpreted language ranges - JavaScript, Perl, Python, BASIC, etc.\n",
        "\n",
        "\n",
        "2. What is exception handling in Python?\n",
        "\n",
        "->Exception handling in Python is a mechanism that allows you to manage errors and exceptional conditions that may occur during the execution of a program. Instead of crashing the program when an error occurs, exception handling enables you to gracefully handle the error, allowing the program to continue running or to terminate in a controlled manner.\n",
        "\n",
        "\n",
        "3. What is the purpose of the finally block in exception handling?\n",
        "\n",
        "->The finally block is essential for ensuring that certain cleanup actions are performed, regardless of whether an exception occurred in the try block.\n",
        "It enhances the robustness of your code by managing resources effectively and maintaining a consistent application state.\n",
        "\n",
        "\n",
        "4. What is logging in Python?\n",
        "\n",
        "->Logging in Python is a way to track events that happen during the execution of a program. It provides a means to record messages that can help developers understand the flow of the program, diagnose issues, and monitor the application's behavior. The logging module in Python is part of the standard library and offers a flexible framework for emitting log messages from Python programs.\n",
        "\n",
        "\n",
        "5. What is the significance of the __del__ method in Python?\n",
        "\n",
        "->The __del__ method is significant for defining cleanup actions when an object is about to be destroyed.\n",
        "It is useful for resource management but has limitations and should be used with caution.\n",
        "For critical resource management, consider using context managers or explicit cleanup methods instead of relying solely on __del__.\n",
        "\n",
        "6. What is the difference between import and from ... import in Python?\n",
        "\n",
        "->import: This statement imports the entire module, allowing you to access its contents using the module name as a prefix.\n",
        "\n",
        "import module_name\n",
        "\n",
        "from ... import: This statement imports specific attributes (functions, classes, variables) from a module, allowing you to use them directly without the module name prefix.\n",
        "\n",
        "from module_name import attribute_name\n",
        "\n",
        "\n",
        "7. How can you handle multiple exceptions in Python?\n",
        "\n",
        "->You can handle multiple exceptions in Python using multiple except blocks, a single except block for multiple exceptions, or by catching all exceptions with a bare except.\n",
        "Using the as keyword allows you to capture and work with the exception object.\n",
        "It is generally best practice to catch specific exceptions rather than using a bare except clause to avoid masking unexpected errors.\n",
        "\n",
        "8. What is the purpose of the with statement when handling files in Python?\n",
        "\n",
        "->The with statement in Python is used for resource management and exception handling, particularly when dealing with file operations. It simplifies the process of working with resources such as files, ensuring that they are properly managed and cleaned up after use. Here are the key purposes and benefits of using the with statement when handling files:\n",
        "\n",
        "1. Automatic Resource Management:\n",
        "The with statement automatically handles the opening and closing of files. When you use with, the file is opened at the beginning of the block and closed automatically when the block is exited, even if an exception occurs. This helps prevent resource leaks.\n",
        "2. Cleaner Code:\n",
        "Using with leads to cleaner and more readable code. It reduces the amount of boilerplate code needed for opening and closing files, making it easier to understand the flow of the program.\n",
        "3. Exception Safety:\n",
        "If an error occurs while working with the file (e.g., during reading or writing), the with statement ensures that the file is still closed properly. This is particularly important for preventing file corruption or data loss.\n",
        "4. Context Management:\n",
        "The with statement is part of Python's context management protocol. It uses context managers, which are objects that define the runtime context to be established when executing a with statement. The context manager handles the setup and teardown of resources.\n",
        "\n",
        "9. What is the difference between multithreading and multiprocessing?\n",
        "\n",
        "->Multithreading:\n",
        "  Involves multiple threads within a single process. Threads share the same memory space and resources of the process, allowing for lightweight and efficient context switching.\n",
        "\n",
        " Threads share the same memory space, which allows for easy communication and data sharing between threads. However, this can lead to issues such as race conditions and deadlocks if not managed properly.\n",
        "\n",
        " Generally more efficient for I/O-bound tasks (e.g., network operations, file I/O) because threads can run concurrently while waiting for I/O operations to complete. However, due to the Global Interpreter Lock (GIL) in CPython, multithreading may not provide significant performance improvements for CPU-bound tasks.\n",
        "\n",
        "Multiprocessing:\n",
        "Involves multiple processes, each with its own memory space and resources. Processes are independent and do not share memory, which can lead to higher overhead but also greater stability.\n",
        "\n",
        "Each process has its own memory space, which provides better isolation and stability. However, inter-process communication (IPC) is required for processes to share data, which can be more complex and slower than thread communication.\n",
        "\n",
        "More suitable for CPU-bound tasks (e.g., heavy computations) because each process can run on a separate CPU core, bypassing the GIL. This allows for true parallel execution and can lead to better performance for CPU-intensive applications.\n",
        "\n",
        "10. What are the advantages of using logging in a program?\n",
        "\n",
        "->1. Debugging and Troubleshooting:\n",
        "Logging provides a way to track the flow of execution and the state of the application at various points in time. This information is invaluable for diagnosing issues and understanding the behavior of the program, especially when errors occur.\n",
        "2. Monitoring Application Behavior:\n",
        "Logs can be used to monitor the application's performance and behavior in real-time. By analyzing log data, developers can identify patterns, detect anomalies, and gain insights into how the application is being used.\n",
        "3. Error Reporting:\n",
        "Logging allows for detailed error reporting, including stack traces and contextual information about the state of the application when an error occurred. This helps developers quickly identify and fix bugs.\n",
        "4. Audit Trails:\n",
        "Logs can serve as an audit trail, recording important events and actions taken by users or the system. This is particularly useful for security and compliance purposes, as it provides a record of who did what and when.\n",
        "5. Performance Analysis:\n",
        "By logging performance metrics (e.g., execution time of functions, resource usage), developers can analyze the performance of the application and identify bottlenecks or areas for optimization.\n",
        "6. Configurability:\n",
        "The logging module in Python allows for configurable logging levels (e.g., DEBUG, INFO, WARNING, ERROR, CRITICAL). This means that developers can control the verbosity of the logs and filter out less important messages in production environments.\n",
        "7. Separation of Concerns:\n",
        "Logging separates the concerns of error handling and debugging from the main application logic. This leads to cleaner and more maintainable code, as logging can be added or modified without affecting the core functionality.\n",
        "8. Persistent Storage:\n",
        "Logs can be written to various outputs, such as files, databases, or external logging services. This allows for persistent storage of log data, which can be useful for long-term analysis and historical reference.\n",
        "9. Facilitating Collaboration:\n",
        "In team environments, logging provides a shared understanding of the application's behavior and issues. Team members can review logs to understand what has happened in the application, making collaboration more effective.\n",
        "10. Integration with Monitoring Tools:\n",
        "Logs can be integrated with monitoring and alerting tools, allowing for proactive detection of issues. For example, if a certain error occurs frequently, alerts can be triggered to notify developers or operations teams.\n",
        "\n",
        "11. What is memory management in Python?\n",
        "\n",
        "->Memory management in Python is primarily handled through automatic memory allocation, reference counting, and garbage collection. This system allows developers to focus on writing code without worrying about manual memory management, while still providing tools to monitor and optimize memory usage. Understanding how memory management works in Python can help developers write more efficient and robust applications.\n",
        "\n",
        "12. What are the basic steps involved in exception handling in Python?\n",
        "\n",
        "->The basic steps involved in exception handling in Python are:\n",
        "\n",
        "Use a try block to wrap code that may raise exceptions.\n",
        "Use except blocks to catch and handle specific exceptions.\n",
        "Optionally, use an else block to execute code if no exceptions occur.\n",
        "Optionally, use a finally block to execute cleanup code regardless of exceptions.\n",
        "Catch multiple exceptions in a single except block if needed.\n",
        "Raise exceptions explicitly using the raise statement when necessary.\n",
        "By following these steps, you can effectively manage errors and ensure that your program behaves predictably even in the face of unexpected conditions.\n",
        "\n",
        "13. Why is memory management important in Python?\n",
        "\n",
        "->1. Efficient Resource Utilization:\n",
        "Proper memory management ensures that the program uses memory resources efficiently. This is crucial for performance, especially in applications that handle large amounts of data or require significant computational resources.\n",
        "2. Preventing Memory Leaks:\n",
        "Memory leaks occur when a program allocates memory but fails to release it when it is no longer needed. This can lead to increased memory usage over time, potentially causing the program to slow down or crash. Effective memory management helps prevent memory leaks by ensuring that memory is properly allocated and deallocated.\n",
        "3. Improving Performance:\n",
        "Efficient memory management can lead to improved application performance. By minimizing memory fragmentation and optimizing memory allocation, programs can run faster and more smoothly. This is particularly important for performance-critical applications, such as real-time systems or high-performance computing tasks.\n",
        "4. Stability and Reliability:\n",
        "Proper memory management contributes to the stability and reliability of applications. When memory is managed correctly, the likelihood of encountering runtime errors, crashes, or undefined behavior due to memory-related issues is reduced.\n",
        "5. Scalability:\n",
        "Applications that manage memory effectively can scale better as they handle larger datasets or more users. This is essential for web applications, databases, and other systems that need to accommodate growth without degrading performance.\n",
        "6. Ease of Debugging:\n",
        "Understanding how memory is allocated and managed can help developers identify and fix bugs related to memory usage. This includes issues such as accessing freed memory, buffer overflows, and other common pitfalls that can lead to crashes or unexpected behavior.\n",
        "7. Garbage Collection:\n",
        "Python's automatic garbage collection helps manage memory by reclaiming memory that is no longer in use. Understanding how garbage collection works allows developers to write code that minimizes the impact of garbage collection on performance and avoids common pitfalls, such as circular references.\n",
        "8. Cross-Platform Compatibility:\n",
        "Memory management practices can vary between different operating systems and environments. By understanding memory management in Python, developers can write code that is more portable and behaves consistently across different platforms.\n",
        "9. User Experience:\n",
        "Applications that manage memory well provide a better user experience. Users are less likely to encounter slowdowns, crashes, or other issues related to memory usage, leading to higher satisfaction and retention.\n",
        "\n",
        "14. What is the role of try and except in exception handling?\n",
        "\n",
        "-> Try Block:\n",
        "The try block is used to wrap the code that may potentially raise an exception. It serves as a protective enclosure for the code that you want to monitor for errors.\n",
        "When the code inside the try block is executed, Python checks for any exceptions that may occur. If an exception is raised, the normal flow of execution is interrupted, and control is transferred to the corresponding except block.\n",
        "\n",
        " Except Block:\n",
        "The except block is used to define how to handle specific exceptions that may be raised in the try block. It allows developers to specify one or more types of exceptions to catch and handle them appropriately.\n",
        "If an exception occurs in the try block, Python looks for a matching except block. If a match is found, the code inside that except block is executed. If no matching except block is found, the program will terminate and display an error message.\n",
        "\n",
        "15. How does Python's garbage collection system work?\n",
        "\n",
        "->Python's garbage collection system works through a combination of reference counting and cyclic garbage collection. Reference counting efficiently manages memory for most objects by automatically reclaiming memory when reference counts drop to zero. The cyclic garbage collector addresses the issue of cyclic references by periodically scanning for and reclaiming memory from unreachable objects. This automatic memory management helps prevent memory leaks and optimizes resource utilization, allowing developers to focus on writing code without worrying about manual memory management.\n",
        "\n",
        "16. What is the purpose of the else block in exception handling?\n",
        "\n",
        "->The else block in exception handling is used to define code that should run only if the try block completes successfully without raising any exceptions. It helps separate normal execution from error handling, improves code readability, and avoids redundant checks for exceptions. By using the else block, developers can create clearer and more maintainable code structures in their exception handling logic.\n",
        "\n",
        "17. What are the common logging levels in Python?\n",
        "\n",
        "->1. DEBUG:\n",
        "Level: 10\n",
        "Description: This level is used for detailed diagnostic information useful for debugging. It is typically used to log information that is helpful during development and troubleshooting.\n",
        "\n",
        "Copy code\n",
        "logging.debug(\"This is a debug message.\")\n",
        "\n",
        "\n",
        "2. INFO:\n",
        "Level: 20\n",
        "Description: This level is used for informational messages that highlight the progress of the application at a high level. It is often used to log general events or milestones in the application.\n",
        "\n",
        "logging.info(\"Application started successfully.\")\n",
        "\n",
        "\n",
        "3. WARNING:\n",
        "Level: 30\n",
        "Description: This level indicates a warning about a potential issue that does not prevent the program from functioning but may require attention. It is used to log situations that are not errors but could lead to problems.\n",
        "\n",
        "logging.warning(\"This is a warning message.\")\n",
        "\n",
        "4. ERROR:\n",
        "Level: 40\n",
        "Description: This level is used for logging error messages that indicate a failure in the application. It signifies that an error has occurred, but the application can still continue running.\n",
        "\n",
        "logging.error(\"An error occurred while processing the request.\")\n",
        "\n",
        "5. CRITICAL:\n",
        "Level: 50\n",
        "Description: This level indicates a very serious error that may prevent the application from continuing to run. It is used for logging critical issues that require immediate attention.\n",
        "\n",
        "logging.critical(\"A critical error occurred! Shutting down.\")\n",
        "\n",
        "18. What is the difference between os.fork() and multiprocessing in Python?\n",
        "\n",
        "-> os.fork():\n",
        "Definition: os.fork() is a low-level function provided by the os module that creates a new process by duplicating the calling process. The new process is called the child process.\n",
        "\n",
        "When os.fork() is called, it creates a copy of the current process. The child process receives a unique process ID (PID) and a copy of the parent's memory space.\n",
        "Both the parent and child processes continue executing from the point where os.fork() was called. The return value of os.fork() is different for the parent and child:\n",
        "In the parent process, it returns the PID of the child.\n",
        "In the child process, it returns 0.\n",
        "\n",
        "multiprocessing Module:The multiprocessing module is a higher-level abstraction for creating and managing processes in Python. It provides a more user-friendly interface for parallel execution and includes features for inter-process communication and synchronization.\n",
        "\n",
        "The multiprocessing module allows you to create new processes using the Process class. Each process runs independently and can communicate with other processes using pipes, queues, or shared memory.\n",
        "It abstracts away the complexities of process creation and management, making it easier to write concurrent programs.\n",
        "\n",
        "\n",
        "19. What is the importance of closing a file in Python?\n",
        "\n",
        "->Closing a file in Python is important for resource management, data integrity, avoiding errors, and ensuring proper file locking. It is a best practice that contributes to the robustness and reliability of your code. Using the with statement is a convenient way to handle files, as it automatically takes care of closing the file, reducing the risk of resource leaks and data loss.\n",
        "\n",
        "20. What is the difference between file.read() and file.readline() in Python?\n",
        "\n",
        "->file.read():\n",
        "Purpose: The file.read() method reads the entire content of the file at once.\n",
        "Return Value: It returns the entire content of the file as a single string. If the file is large, this can consume a significant amount of memory.\n",
        "Usage: It is typically used when you want to read the whole file content for processing or analysis.\n",
        "\n",
        " file.readline():\n",
        "Purpose: The file.readline() method reads a single line from the file at a time.\n",
        "Return Value: It returns the next line from the file as a string, including the newline character (\\n) at the end of the line. If the end of the file is reached, it returns an empty string.\n",
        "Usage: It is useful when you want to process the file line by line, which is more memory-efficient for large files.\n",
        "\n",
        "21. What is the logging module in Python used for?\n",
        "\n",
        "->The logging module in Python is used for generating log messages that provide insight into the execution of an application. It offers configurable log levels, customizable formats, and various handlers for directing log output. By using the logging module, developers can effectively monitor application behavior, diagnose issues, and maintain code quality, making it an essential tool for both development and production environments.\n",
        "\n",
        "\n",
        "22. What is the os module in Python used for in file handling?\n",
        "\n",
        "->The os module in Python is a powerful tool for file handling and interacting with the operating system. It provides functions for creating, removing, and renaming files and directories, as well as manipulating file paths and accessing environment variables. By using the os module, developers can perform a wide range of file operations and manage the file system effectively.\n",
        "\n",
        "23. What are the challenges associated with memory management in Python?\n",
        "\n",
        "->1. Garbage Collection and Reference Counting\n",
        "Challenge: Python uses reference counting as its primary memory management technique, complemented by a cyclic garbage collector.\n",
        "\n",
        "Issue: Circular references (e.g., two objects referencing each other) may not be cleaned up by reference counting alone and rely on the garbage collector.\n",
        "\n",
        "Impact: Memory leaks if cycles are not properly managed.\n",
        "\n",
        "2. Memory Leaks\n",
        "Challenge: Despite automatic memory management, leaks can occur.\n",
        "\n",
        "Causes:\n",
        "\n",
        "Circular references not collected.\n",
        "\n",
        "Unintentional global variables or lingering references.\n",
        "\n",
        "Objects stored in global containers (e.g., lists, caches) and never removed.\n",
        "\n",
        "Impact: Increasing memory usage over time, affecting performance and scalability.\n",
        "\n",
        "3. Inefficient Use of Data Structures\n",
        "Challenge: Some data structures in Python (e.g., lists, dictionaries) may use more memory than necessary.\n",
        "\n",
        "Example: Lists preallocate memory to avoid frequent resizing, but unused slots still occupy space.\n",
        "\n",
        "Impact: Higher memory consumption.\n",
        "\n",
        "4. Object Overhead\n",
        "Challenge: Every Python object has overhead due to its dynamic nature (e.g., metadata, reference counts).\n",
        "\n",
        "Impact: Higher memory usage compared to lower-level languages like C.\n",
        "\n",
        "5. Fragmentation\n",
        "Challenge: The memory allocator in Python (especially CPython) can suffer from fragmentation.\n",
        "\n",
        "Impact: Even with available memory, allocation may fail or be inefficient due to fragmentation.\n",
        "\n",
        "6. Large Objects and Lazy Loading\n",
        "Challenge: Loading large datasets (e.g., files, databases) entirely into memory.\n",
        "\n",
        "Impact: Memory bloat, crashes, or degraded performance.\n",
        "\n",
        "Solution: Use generators, iterators, or memory-mapped files to load data lazily.\n",
        "\n",
        "7. Multithreading and the Global Interpreter Lock (GIL)\n",
        "Challenge: The GIL limits true parallelism in memory management and thread-safe access to objects.\n",
        "\n",
        "Impact: Can cause contention and inefficiencies in multi-threaded programs dealing with shared memory.\n",
        "\n",
        "8. Hidden Retention in Closures and Lambdas\n",
        "Challenge: Closures can unintentionally capture and retain variables.\n",
        "\n",
        "Impact: Memory that isn’t freed as expected.\n",
        "\n",
        "9. Third-party Libraries\n",
        "Challenge: Some libraries may manage memory inefficiently or hold references longer than necessary.\n",
        "\n",
        "Impact: Increases difficulty in debugging memory issues.\n",
        "\n",
        "24.  How do you raise an exception manually in Python?\n",
        "\n",
        "->To raise an exception manually in Python, use the raise statement followed by the exception type and an optional error message. You can also create custom exceptions by subclassing the Exception class. Additionally, you can re-raise exceptions using raise without arguments within an except block to propagate errors up the call stack. This allows for flexible error handling in your applications.\n",
        "\n",
        "def process_data(data):\n",
        "    try:\n",
        "        # Some processing that may raise an exception\n",
        "        if not data:\n",
        "            raise ValueError(\"Data cannot be empty\")\n",
        "    except ValueError as e:\n",
        "        print(f\"Handling error: {e}\")\n",
        "        raise  # Re-raise the caught exception\n",
        "\n",
        "try:\n",
        "    process_data([])\n",
        "except ValueError as e:\n",
        "    print(f\"Final error handling: {e}\")\n",
        "\n",
        "\n",
        "\n",
        "25. Why is it important to use multithreading in certain applications?\n",
        "\n",
        "Multithreading is important in certain applications because it enhances responsiveness, allows for concurrent execution of tasks, facilitates resource sharing, and improves performance by utilizing multi-core processors. It is particularly beneficial for applications with user interfaces, I/O-bound operations, and those requiring background processing or handling multiple connections. By leveraging multithreading, developers can create more efficient, responsive, and scalable applications."
      ],
      "metadata": {
        "id": "ek6J_5Rumb1H"
      }
    },
    {
      "cell_type": "markdown",
      "source": [
        "1. How can you open a file for writing in Python and write a string to it?"
      ],
      "metadata": {
        "id": "30JqpOlnpA9p"
      }
    },
    {
      "cell_type": "code",
      "source": [
        "with open(\"example.txt\", \"w\") as file:\n",
        "    file.write(\"Hello! This is written to the file.\")"
      ],
      "metadata": {
        "id": "UPABvKY_o_f1"
      },
      "execution_count": 1,
      "outputs": []
    },
    {
      "cell_type": "markdown",
      "source": [
        "Write a Python program to read the contents of a file and print each line"
      ],
      "metadata": {
        "id": "iNT_kocQo_6H"
      }
    },
    {
      "cell_type": "code",
      "source": [
        "file = open(\"example.txt\", \"r\")\n",
        "for line in file:\n",
        "    print(line)\n",
        "    file.close()"
      ],
      "metadata": {
        "id": "aYLaJ6q1pGJ-"
      },
      "execution_count": null,
      "outputs": []
    },
    {
      "cell_type": "markdown",
      "source": [
        "How would you handle a case where the file doesn't exist while trying to open it for reading"
      ],
      "metadata": {
        "id": "uvNINCyapIeF"
      }
    },
    {
      "cell_type": "code",
      "source": [
        "filename = 'data.txt'  # Change this to the desired file\n",
        "\n",
        "try:\n",
        "    with open(filename, 'r') as file:\n",
        "        content = file.read()\n",
        "        print(content)\n",
        "\n",
        "except FileNotFoundError:\n",
        "    print(f\"The file '{filename}' does not exist. Please check the filename and try again.\")\n"
      ],
      "metadata": {
        "colab": {
          "base_uri": "https://localhost:8080/"
        },
        "id": "ZX6Ml0DxpJOL",
        "outputId": "e41daa13-aac4-4ed5-b90b-5a346b2f7736"
      },
      "execution_count": 4,
      "outputs": [
        {
          "output_type": "stream",
          "name": "stdout",
          "text": [
            "The file 'data.txt' does not exist. Please check the filename and try again.\n"
          ]
        }
      ]
    },
    {
      "cell_type": "markdown",
      "source": [
        "Write a Python script that reads from one file and writes its content to another file"
      ],
      "metadata": {
        "id": "cT5-uy_FpLdF"
      }
    },
    {
      "cell_type": "code",
      "source": [
        "with open(\"example.txt\", \"r\") as source_file:\n",
        "  content = source_file.read()\n",
        "\n",
        "# Open the destination file in write mode\n",
        "with open(\"destination.txt\", \"w\") as dest_file:\n",
        "  dest_file.write(content)\n",
        "  print(\"File copied successfully!\")"
      ],
      "metadata": {
        "colab": {
          "base_uri": "https://localhost:8080/"
        },
        "id": "myo9wlQQpMS_",
        "outputId": "3eeb91c3-4d91-4f70-ad2f-e0e1d031bf9a"
      },
      "execution_count": 5,
      "outputs": [
        {
          "output_type": "stream",
          "name": "stdout",
          "text": [
            "File copied successfully!\n"
          ]
        }
      ]
    },
    {
      "cell_type": "markdown",
      "source": [
        "How would you catch and handle division by zero error in Python"
      ],
      "metadata": {
        "id": "sJSTKlpApOsT"
      }
    },
    {
      "cell_type": "code",
      "source": [
        "def safe_division(x, y):\n",
        "    try:\n",
        "        result = x / y\n",
        "    except ZeroDivisionError:\n",
        "        return \"Error: Division by zero is not allowed!\"\n",
        "    return result\n",
        "\n",
        "# Example usage\n",
        "print(safe_division(10, 0))  # Will print the error message\n",
        "print(safe_division(10, 2))  # Will print 5.0\n"
      ],
      "metadata": {
        "colab": {
          "base_uri": "https://localhost:8080/"
        },
        "id": "ecAamDGDpPUS",
        "outputId": "ece72753-426b-42a8-e879-58b42ca6c786"
      },
      "execution_count": 6,
      "outputs": [
        {
          "output_type": "stream",
          "name": "stdout",
          "text": [
            "Error: Division by zero is not allowed!\n",
            "5.0\n"
          ]
        }
      ]
    },
    {
      "cell_type": "markdown",
      "source": [
        "Write a Python program that logs an error message to a log file when a division by zero exception occurs"
      ],
      "metadata": {
        "id": "09wRbI0EpTdF"
      }
    },
    {
      "cell_type": "code",
      "source": [
        "import logging\n",
        "\n",
        "# Configure the logger\n",
        "logging.basicConfig(\n",
        "    filename='error_log.txt',        # Log file name\n",
        "    level=logging.ERROR,             # Log level\n",
        "    format='%(asctime)s - %(levelname)s - %(message)s'\n",
        ")\n",
        "\n",
        "def divide(a, b):\n",
        "    try:\n",
        "        result = a / b\n",
        "        print(f\"Result: {result}\")\n",
        "    except ZeroDivisionError as e:\n",
        "        logging.error(\"Attempted to divide by zero. Inputs: a=%s, b=%s\", a, b)\n",
        "        print(\"Error: Division by zero is not allowed.\")\n",
        "\n",
        "# Example usage\n",
        "divide(90, 0)\n"
      ],
      "metadata": {
        "colab": {
          "base_uri": "https://localhost:8080/"
        },
        "id": "wl29jcMTpYIb",
        "outputId": "8de88049-adcb-40e8-892c-f481e4286fe3"
      },
      "execution_count": 1,
      "outputs": [
        {
          "output_type": "stream",
          "name": "stderr",
          "text": [
            "ERROR:root:Attempted to divide by zero. Inputs: a=90, b=0\n"
          ]
        },
        {
          "output_type": "stream",
          "name": "stdout",
          "text": [
            "Error: Division by zero is not allowed.\n"
          ]
        }
      ]
    },
    {
      "cell_type": "markdown",
      "source": [
        " How do you log information at different levels (INFO, ERROR, WARNING) in Python using the logging module"
      ],
      "metadata": {
        "id": "_eB-OQFxpYsG"
      }
    },
    {
      "cell_type": "code",
      "source": [
        "import logging\n",
        "\n",
        "# Configure logging\n",
        "logging.basicConfig(\n",
        "    filename='app.log',           # Log file name\n",
        "    level=logging.DEBUG,          # Minimum log level to capture\n",
        "    format='%(asctime)s - %(levelname)s - %(message)s'\n",
        ")\n",
        "\n",
        "# Log messages at different severity levels\n",
        "logging.debug(\"This is a DEBUG message\")\n",
        "logging.info(\"This is an INFO message\")\n",
        "logging.warning(\"This is a WARNING message\")\n",
        "logging.error(\"This is an ERROR message\")\n",
        "logging.critical(\"This is a CRITICAL message\")\n"
      ],
      "metadata": {
        "colab": {
          "base_uri": "https://localhost:8080/"
        },
        "id": "Do_YFsvapcE2",
        "outputId": "992db35b-982b-4ab9-81c1-60b765922a2e"
      },
      "execution_count": 2,
      "outputs": [
        {
          "output_type": "stream",
          "name": "stderr",
          "text": [
            "WARNING:root:This is a WARNING message\n",
            "ERROR:root:This is an ERROR message\n",
            "CRITICAL:root:This is a CRITICAL message\n"
          ]
        }
      ]
    },
    {
      "cell_type": "markdown",
      "source": [
        "Write a program to handle a file opening error using exception handlingF How can you read a file line by line and store its content in a list in Python"
      ],
      "metadata": {
        "id": "carxRCS9pceS"
      }
    },
    {
      "cell_type": "code",
      "source": [
        "def read_file_lines(filepath):\n",
        "    try:\n",
        "        with open(filepath, 'r') as file:\n",
        "            lines = file.readlines()  # Reads all lines into a list\n",
        "            # Optionally remove newline characters\n",
        "            lines = [line.strip() for line in lines]\n",
        "            return lines\n",
        "    except FileNotFoundError:\n",
        "        print(f\"Error: The file '{filepath}' was not found.\")\n",
        "    except IOError:\n",
        "        print(f\"Error: An I/O error occurred while reading '{filepath}'.\")\n",
        "\n",
        "# Example usage\n",
        "file_path = 'example.txt'\n",
        "content = read_file_lines(file_path)\n",
        "\n",
        "if content:\n",
        "    print(\"File contents as a list:\")\n",
        "    print(content)\n"
      ],
      "metadata": {
        "colab": {
          "base_uri": "https://localhost:8080/"
        },
        "id": "0s1keouhpgE4",
        "outputId": "55c96f51-cb10-44f5-b9f2-e98b1c5f8465"
      },
      "execution_count": 1,
      "outputs": [
        {
          "output_type": "stream",
          "name": "stdout",
          "text": [
            "Error: The file 'example.txt' was not found.\n"
          ]
        }
      ]
    },
    {
      "cell_type": "markdown",
      "source": [
        "How can you append data to an existing file in Python\n",
        "\n"
      ],
      "metadata": {
        "id": "nDggYm4opg22"
      }
    },
    {
      "cell_type": "code",
      "source": [
        "# Data to append\n",
        "data_to_append = \"This is the new line of text.\\n\"\n",
        "\n",
        "# Open the file in append mode\n",
        "with open('example.txt', 'a') as file:\n",
        "    file.write(data_to_append)\n"
      ],
      "metadata": {
        "id": "VO2lpRG8pi6z"
      },
      "execution_count": 2,
      "outputs": []
    },
    {
      "cell_type": "markdown",
      "source": [
        "Write a Python program that uses a try-except block to handle an error when attempting to access a dictionary key that doesn't exist\n"
      ],
      "metadata": {
        "id": "MwFYmgKPpjTN"
      }
    },
    {
      "cell_type": "code",
      "source": [
        "try:\n",
        "    my_dict = {'a': 1, 'b': 2, 'c': 3}\n",
        "    value = my_dict['d']\n",
        "except KeyError:\n",
        "    print(\"Error: Key not found in the dictionary.\")"
      ],
      "metadata": {
        "colab": {
          "base_uri": "https://localhost:8080/"
        },
        "id": "tLxhpbIuplLw",
        "outputId": "cd84a93e-04d4-40d0-bb9d-9396958af850"
      },
      "execution_count": 3,
      "outputs": [
        {
          "output_type": "stream",
          "name": "stdout",
          "text": [
            "Error: Key not found in the dictionary.\n"
          ]
        }
      ]
    },
    {
      "cell_type": "markdown",
      "source": [
        "\n",
        "Write a program that demonstrates using multiple except blocks to handle different types of exceptions\n",
        "\n"
      ],
      "metadata": {
        "id": "nlmSLyaipln0"
      }
    },
    {
      "cell_type": "code",
      "source": [
        "def demonstrate_multiple_exceptions():\n",
        "    try:\n",
        "        # Get user input\n",
        "        num1 = int(input(\"Enter first number: \"))\n",
        "        num2 = int(input(\"Enter second number: \"))\n",
        "\n",
        "        # Perform operations that could raise different exceptions\n",
        "        division_result = num1 / num2\n",
        "        print(f\"Division result: {division_result}\")\n",
        "\n",
        "        # Access a list element that may not exist\n",
        "        my_list = [10, 20, 30]\n",
        "        index = int(input(\"Enter index to access (0-2): \"))\n",
        "        print(f\"List element: {my_list[index]}\")\n",
        "\n",
        "        # Open a file\n",
        "        filename = input(\"Enter filename to open: \")\n",
        "        with open(filename, 'r') as file:\n",
        "            content = file.read()\n",
        "            print(\"File content:\", content)\n",
        "\n",
        "    except ValueError:\n",
        "        print(\"Error: Please enter valid integers where required.\")\n",
        "    except ZeroDivisionError:\n",
        "        print(\"Error: Cannot divide by zero!\")\n",
        "    except IndexError:\n",
        "        print(\"Error: List index out of range!\")\n",
        "    except FileNotFoundError:\n",
        "        print(f\"Error: File '{filename}' not found!\")\n",
        "    except Exception as e:\n",
        "        print(f\"An unexpected error occurred: {str(e)}\")\n",
        "    else:\n",
        "        print(\"All operations completed successfully!\")\n",
        "    finally:\n",
        "        print(\"Program execution complete (cleanup can go here).\")\n",
        "\n",
        "# Run the demonstration\n",
        "demonstrate_multiple_exceptions()\n",
        "\n"
      ],
      "metadata": {
        "colab": {
          "base_uri": "https://localhost:8080/"
        },
        "id": "6SyiG5fZpnbJ",
        "outputId": "4425592b-6acc-4fd8-b1d3-613abb1ff759"
      },
      "execution_count": 4,
      "outputs": [
        {
          "output_type": "stream",
          "name": "stdout",
          "text": [
            "Enter first number: uy\n",
            "Error: Please enter valid integers where required.\n",
            "Program execution complete (cleanup can go here).\n"
          ]
        }
      ]
    },
    {
      "cell_type": "markdown",
      "source": [
        "How would you check if a file exists before attempting to read it in Python"
      ],
      "metadata": {
        "id": "nEy3i9Tupn22"
      }
    },
    {
      "cell_type": "code",
      "source": [
        "from pathlib import Path\n",
        "\n",
        "filename = Path('example.txt')\n",
        "\n",
        "# Check if the file exists\n",
        "if filename.is_file():\n",
        "    with open(filename, 'r') as file:\n",
        "        content = file.read()\n",
        "        print(\"File content:\", content)\n",
        "else:\n",
        "    print(f\"The file '{filename}' does not exist.\")\n"
      ],
      "metadata": {
        "colab": {
          "base_uri": "https://localhost:8080/"
        },
        "id": "1Vfj0uS9pwGt",
        "outputId": "b621a8d5-14cb-4355-aef3-dfd83be322f8"
      },
      "execution_count": 5,
      "outputs": [
        {
          "output_type": "stream",
          "name": "stdout",
          "text": [
            "File content: This is the new line of text.\n",
            "This is the new line of text.\n",
            "\n"
          ]
        }
      ]
    },
    {
      "cell_type": "markdown",
      "source": [
        " Write a program that uses the logging module to log both informational and error messages\n",
        "\n"
      ],
      "metadata": {
        "id": "ONypyq6CpwvY"
      }
    },
    {
      "cell_type": "code",
      "source": [
        "import logging\n",
        "\n",
        "logging.basicConfig(\n",
        "    filename='application.log',\n",
        "    level=logging.DEBUG,\n",
        "    format='%(asctime)s - %(levelname)s - %(message)s'\n",
        ")\n",
        "\n",
        "def divide(a, b):\n",
        "    logging.info(f\"Attempting to divide {a} by {b}\")\n",
        "    try:\n",
        "        result = a / b\n",
        "        logging.info(f\"Result: {result}\")\n",
        "        return result\n",
        "    except ZeroDivisionError:\n",
        "        logging.error(\"Division by zero error occurred\")\n",
        "        return None\n",
        "\n",
        "# Example usage\n",
        "divide(80, 2)\n",
        "divide(6, 0)\n"
      ],
      "metadata": {
        "colab": {
          "base_uri": "https://localhost:8080/"
        },
        "id": "KQOAfrw4pzIm",
        "outputId": "16ceec2f-66b8-4c6d-d989-8985a77aeb2c"
      },
      "execution_count": 3,
      "outputs": [
        {
          "output_type": "stream",
          "name": "stderr",
          "text": [
            "ERROR:root:Division by zero error occurred\n"
          ]
        }
      ]
    },
    {
      "cell_type": "markdown",
      "source": [
        " Write a Python program that prints the content of a file and handles the case when the file is empty\n",
        "\n"
      ],
      "metadata": {
        "id": "K3KSCMQ_pzje"
      }
    },
    {
      "cell_type": "code",
      "source": [
        "def print_file_contents(filepath):\n",
        "    try:\n",
        "        with open(filepath, 'r') as file:\n",
        "            content = file.read()\n",
        "            if content.strip() == '':\n",
        "                print(\"The file is empty.\")\n",
        "            else:\n",
        "                print(\"File Contents:\")\n",
        "                print(content)\n",
        "    except FileNotFoundError:\n",
        "        print(f\"Error: The file '{filepath}' does not exist.\")\n",
        "    except IOError:\n",
        "        print(f\"Error: An I/O error occurred while reading '{filepath}'.\")\n",
        "\n",
        "# Example usage\n",
        "file_path = 'example.txt'  # Change to your actual file\n",
        "print_file_contents(file_path)\n"
      ],
      "metadata": {
        "colab": {
          "base_uri": "https://localhost:8080/"
        },
        "id": "M57HOs4Xp1j7",
        "outputId": "2f27935e-7f3b-4eac-b53d-d834d0201f26"
      },
      "execution_count": 4,
      "outputs": [
        {
          "output_type": "stream",
          "name": "stdout",
          "text": [
            "Error: The file 'example.txt' does not exist.\n"
          ]
        }
      ]
    },
    {
      "cell_type": "markdown",
      "source": [
        " Demonstrate how to use memory profiling to check the memory usage of a small program\n",
        "\n"
      ],
      "metadata": {
        "id": "gscFDVyvp2Bl"
      }
    },
    {
      "cell_type": "code",
      "source": [
        "# Importing Required Libraries\n",
        "from memory_profiler import profile\n",
        "\n",
        "# Sample Data\n",
        "orders = [\n",
        "    [34587, \"Learning Python, Mark Lutz\", 4, 40.95],\n",
        "    [98762, \"Programming Python, Mark Lutz\", 5, 56.80],\n",
        "    [77226, \"Head First Python, Paul Barry\", 3, 32.95],\n",
        "    [88112, \"Einführung in Python3, Bernd Klein\", 3, 24.99]\n",
        "]\n",
        "\n",
        "@profile\n",
        "def calculate_costs(orders):\n",
        "    # Using map and lambda to calculate costs\n",
        "    costs = list(\n",
        "        map(lambda order: (\n",
        "            order[0],  # Order Number\n",
        "            order[2] * order[3] + 10 if (order[2] * order[3]) < 100 else order[2] * order[3]  # Adjusted Price\n",
        "        ), orders)\n",
        "    )\n",
        "    return costs\n",
        "\n",
        "# Running the function\n",
        "if __name__ == \"__main__\":\n",
        "    costs = calculate_costs(orders)\n",
        "    print(costs)\n"
      ],
      "metadata": {
        "id": "l2pZDuZ8p32Q"
      },
      "execution_count": null,
      "outputs": []
    },
    {
      "cell_type": "markdown",
      "source": [
        " Write a Python program to create and write a list of numbers to a file, one number per line\n"
      ],
      "metadata": {
        "id": "INcGOjmqp4g2"
      }
    },
    {
      "cell_type": "code",
      "source": [
        "def write_numbers_to_file(numbers, filename):\n",
        "    try:\n",
        "        with open(filename, 'w') as file:\n",
        "            for number in numbers:\n",
        "                file.write(f\"{number}\\n\")\n",
        "        print(f\"Successfully wrote {len(numbers)} numbers to '{filename}'.\")\n",
        "    except IOError as e:\n",
        "        print(f\"Error writing to file: {e}\")\n",
        "\n",
        "# Example usage\n",
        "numbers = list(range(1, 11))  # List of numbers from 1 to 10\n",
        "file_name = 'numbers.txt'\n",
        "write_numbers_to_file(numbers, file_name)\n"
      ],
      "metadata": {
        "colab": {
          "base_uri": "https://localhost:8080/"
        },
        "id": "9e1KDxIxp6P3",
        "outputId": "16147ad0-c406-4b28-a2c5-fa4751c8296e"
      },
      "execution_count": 1,
      "outputs": [
        {
          "output_type": "stream",
          "name": "stdout",
          "text": [
            "Successfully wrote 10 numbers to 'numbers.txt'.\n"
          ]
        }
      ]
    },
    {
      "cell_type": "markdown",
      "source": [
        "\n",
        " How would you implement a basic logging setup that logs to a file with rotation after 1MB\n",
        "\n"
      ],
      "metadata": {
        "id": "sljv9Ex8p609"
      }
    },
    {
      "cell_type": "code",
      "source": [
        "import logging\n",
        "from logging.handlers import RotatingFileHandler\n",
        "\n",
        "# Set up rotating log handler\n",
        "log_handler = RotatingFileHandler(\n",
        "    filename='app.log',       # Log file name\n",
        "    maxBytes=1 * 1024 * 1024, # 1MB size limit\n",
        "    backupCount=3             # Keep 3 backup log files (e.g., app.log.1, app.log.2...)\n",
        ")\n",
        "\n",
        "# Configure logging format\n",
        "formatter = logging.Formatter('%(asctime)s - %(levelname)s - %(message)s')\n",
        "log_handler.setFormatter(formatter)\n",
        "\n",
        "# Set up logger\n",
        "logger = logging.getLogger()\n",
        "logger.setLevel(logging.INFO)         # Set the minimum log level\n",
        "logger.addHandler(log_handler)\n",
        "\n",
        "# Example logging\n",
        "for i in range(10000):\n",
        "    logger.info(f\"Logging line {i}\")\n"
      ],
      "metadata": {
        "id": "DX-rRc5Xp8jY"
      },
      "execution_count": null,
      "outputs": []
    },
    {
      "cell_type": "markdown",
      "source": [
        "Write a program that handles both IndexError and KeyError using a try-except block\n",
        "\n"
      ],
      "metadata": {
        "id": "tVYMKMX4p86-"
      }
    },
    {
      "cell_type": "code",
      "source": [
        "def access_data(my_list, my_dict, list_index, dict_key):\n",
        "    \"\"\"Access an element from a list and a value from a dictionary.\"\"\"\n",
        "    try:\n",
        "        # Attempt to access the list element\n",
        "        list_value = my_list[list_index]\n",
        "        print(f\"List value at index {list_index}: {list_value}\")\n",
        "\n",
        "        # Attempt to access the dictionary value\n",
        "        dict_value = my_dict[dict_key]\n",
        "        print(f\"Dictionary value for key '{dict_key}': {dict_value}\")\n",
        "\n",
        "    except IndexError:\n",
        "        print(f\"Error: Index {list_index} is out of range for the list.\")\n",
        "    except KeyError:\n",
        "        print(f\"Error: Key '{dict_key}' not found in the dictionary.\")\n",
        "    except Exception as e:\n",
        "        print(f\"An unexpected error occurred: {str(e)}\")\n",
        "\n",
        "# Example data\n",
        "my_list = [10, 20, 30]\n",
        "my_dict = {'a': 1, 'b': 2, 'c': 3}\n",
        "\n",
        "# Test the function with different inputs\n",
        "print(\"Test 1:\")\n",
        "access_data(my_list, my_dict, 1, 'b')  # Valid access\n",
        "\n",
        "print(\"\\nTest 2:\")\n",
        "access_data(my_list, my_dict, 5, 'b')  # IndexError\n",
        "\n",
        "print(\"\\nTest 3:\")\n",
        "access_data(my_list, my_dict, 1, 'd')  # KeyError\n",
        "\n",
        "print(\"\\nTest 4:\")\n",
        "access_data(my_list, my_dict, 5, 'd')  # Both IndexError and KeyError\n"
      ],
      "metadata": {
        "colab": {
          "base_uri": "https://localhost:8080/"
        },
        "id": "eRELkNrHp-kW",
        "outputId": "1d4b78c5-8c66-4a51-b7ed-7d53ebdca0fe"
      },
      "execution_count": 7,
      "outputs": [
        {
          "output_type": "stream",
          "name": "stdout",
          "text": [
            "Test 1:\n",
            "List value at index 1: 20\n",
            "Dictionary value for key 'b': 2\n",
            "\n",
            "Test 2:\n",
            "Error: Index 5 is out of range for the list.\n",
            "\n",
            "Test 3:\n",
            "List value at index 1: 20\n",
            "Error: Key 'd' not found in the dictionary.\n",
            "\n",
            "Test 4:\n",
            "Error: Index 5 is out of range for the list.\n"
          ]
        }
      ]
    },
    {
      "cell_type": "markdown",
      "source": [
        " How would you open a file and read its contents using a context manager in Python\n"
      ],
      "metadata": {
        "id": "b16S2_M3p--Q"
      }
    },
    {
      "cell_type": "code",
      "source": [
        "# Specify the filename\n",
        "filename = 'example.txt'\n",
        "\n",
        "# Using a context manager to open and read the file\n",
        "try:\n",
        "    with open(filename, 'r') as file:\n",
        "        content = file.read()  # Read the entire file content\n",
        "        print(\"File content:\")\n",
        "        print(content)\n",
        "except FileNotFoundError:\n",
        "    print(f\"The file '{filename}' does not exist.\")\n",
        "except IOError as e:\n",
        "    print(f\"An I/O error occurred: {str(e)}\")\n"
      ],
      "metadata": {
        "id": "Sd9tZT8XqAoH"
      },
      "execution_count": null,
      "outputs": []
    },
    {
      "cell_type": "markdown",
      "source": [
        "\n",
        " Write a Python program that reads a file and prints the number of occurrences of a specific word\n"
      ],
      "metadata": {
        "id": "l2eCAbm2qBNC"
      }
    },
    {
      "cell_type": "code",
      "source": [
        "def count_word_occurrences(filename, target_word):\n",
        "    \"\"\"Count occurrences of a specific word in a file.\"\"\"\n",
        "    try:\n",
        "        with open(filename, 'r') as file:\n",
        "            content = file.read()\n",
        "            # Split the content into words and count occurrences\n",
        "            words = content.split()\n",
        "            count = words.count(target_word)\n",
        "            return count\n",
        "    except FileNotFoundError:\n",
        "        print(f\"The file '{filename}' does not exist.\")\n",
        "        return 0\n",
        "    except Exception as e:\n",
        "        print(f\"An error occurred: {str(e)}\")\n",
        "        return 0\n",
        "\n",
        "# Main program\n",
        "if __name__ == \"__main__\":\n",
        "    filename = input(\"Enter the filename: \")\n",
        "    target_word = input(\"Enter the word to count: \")\n",
        "\n",
        "    occurrences = count_word_occurrences(filename, target_word)\n",
        "\n",
        "    if occurrences > 0:\n",
        "        print(f\"The word '{target_word}' occurs {occurrences} times in the file '{filename}'.\")\n",
        "    else:\n",
        "        print(f\"The word '{target_word}' does not occur in the file '{filename}'.\")\n"
      ],
      "metadata": {
        "colab": {
          "base_uri": "https://localhost:8080/"
        },
        "id": "-vrgrSbtqCrc",
        "outputId": "aa7abf8a-81af-457a-ce6d-814c881cf105"
      },
      "execution_count": 6,
      "outputs": [
        {
          "output_type": "stream",
          "name": "stdout",
          "text": [
            "Enter the filename: example.txt\n",
            "Enter the word to count: a\n",
            "The word 'a' does not occur in the file 'example.txt'.\n"
          ]
        }
      ]
    },
    {
      "cell_type": "markdown",
      "source": [
        "\n",
        " How can you check if a file is empty before attempting to read its contents\n"
      ],
      "metadata": {
        "id": "9YRsO1MPqDCf"
      }
    },
    {
      "cell_type": "code",
      "source": [
        "import os\n",
        "\n",
        "filename = 'example.txt'\n",
        "\n",
        "# Check if the file exists and is empty\n",
        "if os.path.exists(filename) and os.path.getsize(filename) > 0:\n",
        "    with open(filename, 'r') as file:\n",
        "        content = file.read()\n",
        "        print(\"File content:\", content)\n",
        "else:\n",
        "    if not os.path.exists(filename):\n",
        "        print(f\"The file '{filename}' does not exist.\")\n",
        "    else:\n",
        "        print(f\"The file '{filename}' is empty.\")\n"
      ],
      "metadata": {
        "id": "phcnKwhAqEfV"
      },
      "execution_count": null,
      "outputs": []
    },
    {
      "cell_type": "markdown",
      "source": [
        "\n",
        " Write a Python program that writes to a log file when an error occurs during file handling."
      ],
      "metadata": {
        "id": "lEDFsVReqFJA"
      }
    },
    {
      "cell_type": "code",
      "source": [
        "import logging\n",
        "\n",
        "\n",
        "logging.basicConfig(\n",
        "    filename='errors.log',\n",
        "    level=logging.ERROR,\n",
        "    format='%(asctime)s - %(levelname)s - %(message)s'\n",
        ")\n",
        "\n",
        "def read_file(filepath):\n",
        "    try:\n",
        "        with open(filepath, 'r') as file:\n",
        "            content = file.read()\n",
        "            print(\"File content:\")\n",
        "            print(content)\n",
        "    except FileNotFoundError as e:\n",
        "        logging.error(\"FileNotFoundError: File '%s' not found.\", filepath)\n",
        "        print(f\"Error: File '{filepath}' not found.\")\n",
        "    except IOError as e:\n",
        "        logging.error(\"IOError while reading file '%s': %s\", filepath, str(e))\n",
        "        print(f\"Error: Could not read file '{filepath}'.\")\n",
        "\n",
        "\n",
        "read_file('non_existing_file.txt')\n"
      ],
      "metadata": {
        "colab": {
          "base_uri": "https://localhost:8080/"
        },
        "id": "YDyPt7fNqGEw",
        "outputId": "cb4983aa-d06a-4eb2-aeef-d468d0b88048"
      },
      "execution_count": 3,
      "outputs": [
        {
          "output_type": "stream",
          "name": "stderr",
          "text": [
            "ERROR:root:FileNotFoundError: File 'non_existing_file.txt' not found.\n"
          ]
        },
        {
          "output_type": "stream",
          "name": "stdout",
          "text": [
            "Error: File 'non_existing_file.txt' not found.\n"
          ]
        }
      ]
    }
  ]
}